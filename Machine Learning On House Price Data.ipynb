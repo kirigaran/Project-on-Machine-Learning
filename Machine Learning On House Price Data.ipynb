{
 "cells": [
  {
   "cell_type": "markdown",
   "id": "85c262f3-8065-459e-911b-3fff69078669",
   "metadata": {},
   "source": [
    "# Machine Learning On House Price Data to Predict House Price"
   ]
  },
  {
   "cell_type": "raw",
   "id": "cb8fe4c3-ec0c-450b-8fed-e7c6477f4ae9",
   "metadata": {},
   "source": [
    "we are going to perform the modelling on house price dataset, in this we have multiple parameters who can help us to predict the price of that specific house."
   ]
  },
  {
   "cell_type": "markdown",
   "id": "407ab338-bdcf-4723-b042-fddfc93145bc",
   "metadata": {},
   "source": [
    "## Import the required library"
   ]
  },
  {
   "cell_type": "code",
   "execution_count": 3,
   "id": "3aa1ab6b-3638-4524-8097-823aecb01902",
   "metadata": {},
   "outputs": [],
   "source": [
    "# import numerical pyhton\n",
    "import numpy as np\n",
    "\n",
    "# import the pandas\n",
    "import pandas as pd\n",
    "\n",
    "# import the seaborn\n",
    "import seaborn as sns\n",
    "\n",
    "# import the matplotlib\n",
    "import matplotlib.pyplot as plt"
   ]
  },
  {
   "cell_type": "markdown",
   "id": "e411318f-2428-417d-9392-80bded3b1b45",
   "metadata": {},
   "source": [
    "### Data Overview"
   ]
  },
  {
   "cell_type": "code",
   "execution_count": 5,
   "id": "97419db7-5b8b-4367-af57-5615579039a2",
   "metadata": {},
   "outputs": [],
   "source": [
    "# Load the Data\n",
    "df_house_price=pd.read_csv('House_Price1.csv')"
   ]
  },
  {
   "cell_type": "code",
   "execution_count": 6,
   "id": "3dd6882c-6e7c-4669-98ff-83e73c874f8c",
   "metadata": {},
   "outputs": [
    {
     "data": {
      "text/html": [
       "<div>\n",
       "<style scoped>\n",
       "    .dataframe tbody tr th:only-of-type {\n",
       "        vertical-align: middle;\n",
       "    }\n",
       "\n",
       "    .dataframe tbody tr th {\n",
       "        vertical-align: top;\n",
       "    }\n",
       "\n",
       "    .dataframe thead th {\n",
       "        text-align: right;\n",
       "    }\n",
       "</style>\n",
       "<table border=\"1\" class=\"dataframe\">\n",
       "  <thead>\n",
       "    <tr style=\"text-align: right;\">\n",
       "      <th></th>\n",
       "      <th>price</th>\n",
       "      <th>resid_area</th>\n",
       "      <th>air_qual</th>\n",
       "      <th>room_num</th>\n",
       "      <th>age</th>\n",
       "      <th>distance</th>\n",
       "      <th>teachers</th>\n",
       "      <th>poor_prop</th>\n",
       "      <th>airport</th>\n",
       "      <th>n_hos_beds</th>\n",
       "      <th>n_hot_rooms</th>\n",
       "      <th>waterbody</th>\n",
       "      <th>rainfall</th>\n",
       "      <th>bus_ter</th>\n",
       "      <th>Sold</th>\n",
       "    </tr>\n",
       "  </thead>\n",
       "  <tbody>\n",
       "    <tr>\n",
       "      <th>0</th>\n",
       "      <td>24.0</td>\n",
       "      <td>32.31</td>\n",
       "      <td>0.538</td>\n",
       "      <td>6.575</td>\n",
       "      <td>65.2</td>\n",
       "      <td>4.35</td>\n",
       "      <td>24.7</td>\n",
       "      <td>4.98</td>\n",
       "      <td>YES</td>\n",
       "      <td>5.480</td>\n",
       "      <td>11.1920</td>\n",
       "      <td>River</td>\n",
       "      <td>23</td>\n",
       "      <td>YES</td>\n",
       "      <td>0</td>\n",
       "    </tr>\n",
       "    <tr>\n",
       "      <th>1</th>\n",
       "      <td>21.6</td>\n",
       "      <td>37.07</td>\n",
       "      <td>0.469</td>\n",
       "      <td>6.421</td>\n",
       "      <td>78.9</td>\n",
       "      <td>4.99</td>\n",
       "      <td>22.2</td>\n",
       "      <td>9.14</td>\n",
       "      <td>NO</td>\n",
       "      <td>7.332</td>\n",
       "      <td>12.1728</td>\n",
       "      <td>Lake</td>\n",
       "      <td>42</td>\n",
       "      <td>YES</td>\n",
       "      <td>1</td>\n",
       "    </tr>\n",
       "    <tr>\n",
       "      <th>2</th>\n",
       "      <td>34.7</td>\n",
       "      <td>37.07</td>\n",
       "      <td>0.469</td>\n",
       "      <td>7.185</td>\n",
       "      <td>61.1</td>\n",
       "      <td>5.03</td>\n",
       "      <td>22.2</td>\n",
       "      <td>4.03</td>\n",
       "      <td>NO</td>\n",
       "      <td>7.394</td>\n",
       "      <td>101.1200</td>\n",
       "      <td>NaN</td>\n",
       "      <td>38</td>\n",
       "      <td>YES</td>\n",
       "      <td>0</td>\n",
       "    </tr>\n",
       "    <tr>\n",
       "      <th>3</th>\n",
       "      <td>33.4</td>\n",
       "      <td>32.18</td>\n",
       "      <td>0.458</td>\n",
       "      <td>6.998</td>\n",
       "      <td>45.8</td>\n",
       "      <td>6.21</td>\n",
       "      <td>21.3</td>\n",
       "      <td>2.94</td>\n",
       "      <td>YES</td>\n",
       "      <td>9.268</td>\n",
       "      <td>11.2672</td>\n",
       "      <td>Lake</td>\n",
       "      <td>45</td>\n",
       "      <td>YES</td>\n",
       "      <td>0</td>\n",
       "    </tr>\n",
       "    <tr>\n",
       "      <th>4</th>\n",
       "      <td>36.2</td>\n",
       "      <td>32.18</td>\n",
       "      <td>0.458</td>\n",
       "      <td>7.147</td>\n",
       "      <td>54.2</td>\n",
       "      <td>6.16</td>\n",
       "      <td>21.3</td>\n",
       "      <td>5.33</td>\n",
       "      <td>NO</td>\n",
       "      <td>8.824</td>\n",
       "      <td>11.2896</td>\n",
       "      <td>Lake</td>\n",
       "      <td>55</td>\n",
       "      <td>YES</td>\n",
       "      <td>0</td>\n",
       "    </tr>\n",
       "  </tbody>\n",
       "</table>\n",
       "</div>"
      ],
      "text/plain": [
       "   price  resid_area  air_qual  room_num   age  distance  teachers  poor_prop  \\\n",
       "0   24.0       32.31     0.538     6.575  65.2      4.35      24.7       4.98   \n",
       "1   21.6       37.07     0.469     6.421  78.9      4.99      22.2       9.14   \n",
       "2   34.7       37.07     0.469     7.185  61.1      5.03      22.2       4.03   \n",
       "3   33.4       32.18     0.458     6.998  45.8      6.21      21.3       2.94   \n",
       "4   36.2       32.18     0.458     7.147  54.2      6.16      21.3       5.33   \n",
       "\n",
       "  airport  n_hos_beds  n_hot_rooms waterbody  rainfall bus_ter  Sold  \n",
       "0     YES       5.480      11.1920     River        23     YES     0  \n",
       "1      NO       7.332      12.1728      Lake        42     YES     1  \n",
       "2      NO       7.394     101.1200       NaN        38     YES     0  \n",
       "3     YES       9.268      11.2672      Lake        45     YES     0  \n",
       "4      NO       8.824      11.2896      Lake        55     YES     0  "
      ]
     },
     "execution_count": 6,
     "metadata": {},
     "output_type": "execute_result"
    }
   ],
   "source": [
    "#show the first five observations of the data\n",
    "df_house_price.head()"
   ]
  },
  {
   "cell_type": "code",
   "execution_count": 7,
   "id": "086a22fd-ea91-4817-8887-54993d33762b",
   "metadata": {},
   "outputs": [
    {
     "data": {
      "text/html": [
       "<div>\n",
       "<style scoped>\n",
       "    .dataframe tbody tr th:only-of-type {\n",
       "        vertical-align: middle;\n",
       "    }\n",
       "\n",
       "    .dataframe tbody tr th {\n",
       "        vertical-align: top;\n",
       "    }\n",
       "\n",
       "    .dataframe thead th {\n",
       "        text-align: right;\n",
       "    }\n",
       "</style>\n",
       "<table border=\"1\" class=\"dataframe\">\n",
       "  <thead>\n",
       "    <tr style=\"text-align: right;\">\n",
       "      <th></th>\n",
       "      <th>price</th>\n",
       "      <th>resid_area</th>\n",
       "      <th>air_qual</th>\n",
       "      <th>room_num</th>\n",
       "      <th>age</th>\n",
       "      <th>distance</th>\n",
       "      <th>teachers</th>\n",
       "      <th>poor_prop</th>\n",
       "      <th>airport</th>\n",
       "      <th>n_hos_beds</th>\n",
       "      <th>n_hot_rooms</th>\n",
       "      <th>waterbody</th>\n",
       "      <th>rainfall</th>\n",
       "      <th>bus_ter</th>\n",
       "      <th>Sold</th>\n",
       "    </tr>\n",
       "  </thead>\n",
       "  <tbody>\n",
       "    <tr>\n",
       "      <th>501</th>\n",
       "      <td>22.4</td>\n",
       "      <td>41.93</td>\n",
       "      <td>0.573</td>\n",
       "      <td>6.593</td>\n",
       "      <td>69.1</td>\n",
       "      <td>2.64</td>\n",
       "      <td>19.0</td>\n",
       "      <td>9.67</td>\n",
       "      <td>NO</td>\n",
       "      <td>9.348</td>\n",
       "      <td>12.1792</td>\n",
       "      <td>Lake and River</td>\n",
       "      <td>27</td>\n",
       "      <td>YES</td>\n",
       "      <td>1</td>\n",
       "    </tr>\n",
       "    <tr>\n",
       "      <th>502</th>\n",
       "      <td>20.6</td>\n",
       "      <td>41.93</td>\n",
       "      <td>0.573</td>\n",
       "      <td>6.120</td>\n",
       "      <td>76.7</td>\n",
       "      <td>2.44</td>\n",
       "      <td>19.0</td>\n",
       "      <td>9.08</td>\n",
       "      <td>YES</td>\n",
       "      <td>6.612</td>\n",
       "      <td>13.1648</td>\n",
       "      <td>Lake and River</td>\n",
       "      <td>20</td>\n",
       "      <td>YES</td>\n",
       "      <td>1</td>\n",
       "    </tr>\n",
       "    <tr>\n",
       "      <th>503</th>\n",
       "      <td>23.9</td>\n",
       "      <td>41.93</td>\n",
       "      <td>0.573</td>\n",
       "      <td>6.976</td>\n",
       "      <td>91.0</td>\n",
       "      <td>2.34</td>\n",
       "      <td>19.0</td>\n",
       "      <td>5.64</td>\n",
       "      <td>NO</td>\n",
       "      <td>5.478</td>\n",
       "      <td>12.1912</td>\n",
       "      <td>NaN</td>\n",
       "      <td>31</td>\n",
       "      <td>YES</td>\n",
       "      <td>1</td>\n",
       "    </tr>\n",
       "    <tr>\n",
       "      <th>504</th>\n",
       "      <td>22.0</td>\n",
       "      <td>41.93</td>\n",
       "      <td>0.573</td>\n",
       "      <td>6.794</td>\n",
       "      <td>89.3</td>\n",
       "      <td>2.54</td>\n",
       "      <td>19.0</td>\n",
       "      <td>6.48</td>\n",
       "      <td>YES</td>\n",
       "      <td>7.940</td>\n",
       "      <td>15.1760</td>\n",
       "      <td>NaN</td>\n",
       "      <td>47</td>\n",
       "      <td>YES</td>\n",
       "      <td>1</td>\n",
       "    </tr>\n",
       "    <tr>\n",
       "      <th>505</th>\n",
       "      <td>19.0</td>\n",
       "      <td>41.93</td>\n",
       "      <td>0.573</td>\n",
       "      <td>6.030</td>\n",
       "      <td>80.8</td>\n",
       "      <td>2.72</td>\n",
       "      <td>19.0</td>\n",
       "      <td>7.88</td>\n",
       "      <td>YES</td>\n",
       "      <td>10.280</td>\n",
       "      <td>10.1520</td>\n",
       "      <td>NaN</td>\n",
       "      <td>45</td>\n",
       "      <td>YES</td>\n",
       "      <td>1</td>\n",
       "    </tr>\n",
       "  </tbody>\n",
       "</table>\n",
       "</div>"
      ],
      "text/plain": [
       "     price  resid_area  air_qual  room_num   age  distance  teachers  \\\n",
       "501   22.4       41.93     0.573     6.593  69.1      2.64      19.0   \n",
       "502   20.6       41.93     0.573     6.120  76.7      2.44      19.0   \n",
       "503   23.9       41.93     0.573     6.976  91.0      2.34      19.0   \n",
       "504   22.0       41.93     0.573     6.794  89.3      2.54      19.0   \n",
       "505   19.0       41.93     0.573     6.030  80.8      2.72      19.0   \n",
       "\n",
       "     poor_prop airport  n_hos_beds  n_hot_rooms       waterbody  rainfall  \\\n",
       "501       9.67      NO       9.348      12.1792  Lake and River        27   \n",
       "502       9.08     YES       6.612      13.1648  Lake and River        20   \n",
       "503       5.64      NO       5.478      12.1912             NaN        31   \n",
       "504       6.48     YES       7.940      15.1760             NaN        47   \n",
       "505       7.88     YES      10.280      10.1520             NaN        45   \n",
       "\n",
       "    bus_ter  Sold  \n",
       "501     YES     1  \n",
       "502     YES     1  \n",
       "503     YES     1  \n",
       "504     YES     1  \n",
       "505     YES     1  "
      ]
     },
     "execution_count": 7,
     "metadata": {},
     "output_type": "execute_result"
    }
   ],
   "source": [
    "# show the last five observation of the data\n",
    "df_house_price.tail()"
   ]
  },
  {
   "cell_type": "code",
   "execution_count": 8,
   "id": "9935d7bc-7950-4880-b7ad-465e3f1ef55e",
   "metadata": {},
   "outputs": [
    {
     "data": {
      "text/plain": [
       "(506, 15)"
      ]
     },
     "execution_count": 8,
     "metadata": {},
     "output_type": "execute_result"
    }
   ],
   "source": [
    "# show the shape of the data\n",
    "df_house_price.shape"
   ]
  },
  {
   "cell_type": "code",
   "execution_count": 9,
   "id": "c9d2771b-5f50-4ca2-b295-c0b25daa16f4",
   "metadata": {},
   "outputs": [
    {
     "data": {
      "text/html": [
       "<div>\n",
       "<style scoped>\n",
       "    .dataframe tbody tr th:only-of-type {\n",
       "        vertical-align: middle;\n",
       "    }\n",
       "\n",
       "    .dataframe tbody tr th {\n",
       "        vertical-align: top;\n",
       "    }\n",
       "\n",
       "    .dataframe thead th {\n",
       "        text-align: right;\n",
       "    }\n",
       "</style>\n",
       "<table border=\"1\" class=\"dataframe\">\n",
       "  <thead>\n",
       "    <tr style=\"text-align: right;\">\n",
       "      <th></th>\n",
       "      <th>price</th>\n",
       "      <th>resid_area</th>\n",
       "      <th>air_qual</th>\n",
       "      <th>room_num</th>\n",
       "      <th>age</th>\n",
       "      <th>distance</th>\n",
       "      <th>teachers</th>\n",
       "      <th>poor_prop</th>\n",
       "      <th>n_hos_beds</th>\n",
       "      <th>n_hot_rooms</th>\n",
       "      <th>rainfall</th>\n",
       "      <th>Sold</th>\n",
       "    </tr>\n",
       "  </thead>\n",
       "  <tbody>\n",
       "    <tr>\n",
       "      <th>count</th>\n",
       "      <td>506.000000</td>\n",
       "      <td>506.000000</td>\n",
       "      <td>506.000000</td>\n",
       "      <td>506.000000</td>\n",
       "      <td>506.000000</td>\n",
       "      <td>506.000000</td>\n",
       "      <td>506.000000</td>\n",
       "      <td>506.000000</td>\n",
       "      <td>498.000000</td>\n",
       "      <td>506.000000</td>\n",
       "      <td>506.000000</td>\n",
       "      <td>506.000000</td>\n",
       "    </tr>\n",
       "    <tr>\n",
       "      <th>mean</th>\n",
       "      <td>22.528854</td>\n",
       "      <td>41.136779</td>\n",
       "      <td>0.554695</td>\n",
       "      <td>6.284634</td>\n",
       "      <td>68.574901</td>\n",
       "      <td>3.971996</td>\n",
       "      <td>21.544466</td>\n",
       "      <td>12.653063</td>\n",
       "      <td>7.899767</td>\n",
       "      <td>13.041605</td>\n",
       "      <td>39.181818</td>\n",
       "      <td>0.454545</td>\n",
       "    </tr>\n",
       "    <tr>\n",
       "      <th>std</th>\n",
       "      <td>9.182176</td>\n",
       "      <td>6.860353</td>\n",
       "      <td>0.115878</td>\n",
       "      <td>0.702617</td>\n",
       "      <td>28.148861</td>\n",
       "      <td>2.108532</td>\n",
       "      <td>2.164946</td>\n",
       "      <td>7.141062</td>\n",
       "      <td>1.476683</td>\n",
       "      <td>5.238957</td>\n",
       "      <td>12.513697</td>\n",
       "      <td>0.498422</td>\n",
       "    </tr>\n",
       "    <tr>\n",
       "      <th>min</th>\n",
       "      <td>5.000000</td>\n",
       "      <td>30.460000</td>\n",
       "      <td>0.385000</td>\n",
       "      <td>3.561000</td>\n",
       "      <td>2.900000</td>\n",
       "      <td>1.130000</td>\n",
       "      <td>18.000000</td>\n",
       "      <td>1.730000</td>\n",
       "      <td>5.268000</td>\n",
       "      <td>10.057600</td>\n",
       "      <td>3.000000</td>\n",
       "      <td>0.000000</td>\n",
       "    </tr>\n",
       "    <tr>\n",
       "      <th>25%</th>\n",
       "      <td>17.025000</td>\n",
       "      <td>35.190000</td>\n",
       "      <td>0.449000</td>\n",
       "      <td>5.885500</td>\n",
       "      <td>45.025000</td>\n",
       "      <td>2.270000</td>\n",
       "      <td>19.800000</td>\n",
       "      <td>6.950000</td>\n",
       "      <td>6.634500</td>\n",
       "      <td>11.189800</td>\n",
       "      <td>28.000000</td>\n",
       "      <td>0.000000</td>\n",
       "    </tr>\n",
       "    <tr>\n",
       "      <th>50%</th>\n",
       "      <td>21.200000</td>\n",
       "      <td>39.690000</td>\n",
       "      <td>0.538000</td>\n",
       "      <td>6.208500</td>\n",
       "      <td>77.500000</td>\n",
       "      <td>3.385000</td>\n",
       "      <td>20.950000</td>\n",
       "      <td>11.360000</td>\n",
       "      <td>7.999000</td>\n",
       "      <td>12.720000</td>\n",
       "      <td>39.000000</td>\n",
       "      <td>0.000000</td>\n",
       "    </tr>\n",
       "    <tr>\n",
       "      <th>75%</th>\n",
       "      <td>25.000000</td>\n",
       "      <td>48.100000</td>\n",
       "      <td>0.624000</td>\n",
       "      <td>6.623500</td>\n",
       "      <td>94.075000</td>\n",
       "      <td>5.367500</td>\n",
       "      <td>22.600000</td>\n",
       "      <td>16.955000</td>\n",
       "      <td>9.088000</td>\n",
       "      <td>14.170800</td>\n",
       "      <td>50.000000</td>\n",
       "      <td>1.000000</td>\n",
       "    </tr>\n",
       "    <tr>\n",
       "      <th>max</th>\n",
       "      <td>50.000000</td>\n",
       "      <td>57.740000</td>\n",
       "      <td>0.871000</td>\n",
       "      <td>8.780000</td>\n",
       "      <td>100.000000</td>\n",
       "      <td>12.320000</td>\n",
       "      <td>27.400000</td>\n",
       "      <td>37.970000</td>\n",
       "      <td>10.876000</td>\n",
       "      <td>101.120000</td>\n",
       "      <td>60.000000</td>\n",
       "      <td>1.000000</td>\n",
       "    </tr>\n",
       "  </tbody>\n",
       "</table>\n",
       "</div>"
      ],
      "text/plain": [
       "            price  resid_area    air_qual    room_num         age    distance  \\\n",
       "count  506.000000  506.000000  506.000000  506.000000  506.000000  506.000000   \n",
       "mean    22.528854   41.136779    0.554695    6.284634   68.574901    3.971996   \n",
       "std      9.182176    6.860353    0.115878    0.702617   28.148861    2.108532   \n",
       "min      5.000000   30.460000    0.385000    3.561000    2.900000    1.130000   \n",
       "25%     17.025000   35.190000    0.449000    5.885500   45.025000    2.270000   \n",
       "50%     21.200000   39.690000    0.538000    6.208500   77.500000    3.385000   \n",
       "75%     25.000000   48.100000    0.624000    6.623500   94.075000    5.367500   \n",
       "max     50.000000   57.740000    0.871000    8.780000  100.000000   12.320000   \n",
       "\n",
       "         teachers   poor_prop  n_hos_beds  n_hot_rooms    rainfall        Sold  \n",
       "count  506.000000  506.000000  498.000000   506.000000  506.000000  506.000000  \n",
       "mean    21.544466   12.653063    7.899767    13.041605   39.181818    0.454545  \n",
       "std      2.164946    7.141062    1.476683     5.238957   12.513697    0.498422  \n",
       "min     18.000000    1.730000    5.268000    10.057600    3.000000    0.000000  \n",
       "25%     19.800000    6.950000    6.634500    11.189800   28.000000    0.000000  \n",
       "50%     20.950000   11.360000    7.999000    12.720000   39.000000    0.000000  \n",
       "75%     22.600000   16.955000    9.088000    14.170800   50.000000    1.000000  \n",
       "max     27.400000   37.970000   10.876000   101.120000   60.000000    1.000000  "
      ]
     },
     "execution_count": 9,
     "metadata": {},
     "output_type": "execute_result"
    }
   ],
   "source": [
    "# show the basic statistics of the data\n",
    "df_house_price.describe()"
   ]
  },
  {
   "cell_type": "code",
   "execution_count": 10,
   "id": "ee8a029f-bf23-43cb-87e0-425b9b715ce9",
   "metadata": {},
   "outputs": [
    {
     "name": "stdout",
     "output_type": "stream",
     "text": [
      "<class 'pandas.core.frame.DataFrame'>\n",
      "RangeIndex: 506 entries, 0 to 505\n",
      "Data columns (total 15 columns):\n",
      " #   Column       Non-Null Count  Dtype  \n",
      "---  ------       --------------  -----  \n",
      " 0   price        506 non-null    float64\n",
      " 1   resid_area   506 non-null    float64\n",
      " 2   air_qual     506 non-null    float64\n",
      " 3   room_num     506 non-null    float64\n",
      " 4   age          506 non-null    float64\n",
      " 5   distance     506 non-null    float64\n",
      " 6   teachers     506 non-null    float64\n",
      " 7   poor_prop    506 non-null    float64\n",
      " 8   airport      506 non-null    object \n",
      " 9   n_hos_beds   498 non-null    float64\n",
      " 10  n_hot_rooms  506 non-null    float64\n",
      " 11  waterbody    351 non-null    object \n",
      " 12  rainfall     506 non-null    int64  \n",
      " 13  bus_ter      506 non-null    object \n",
      " 14  Sold         506 non-null    int64  \n",
      "dtypes: float64(10), int64(2), object(3)\n",
      "memory usage: 59.4+ KB\n"
     ]
    }
   ],
   "source": [
    "# show the basic information of the data\n",
    "df_house_price.info()"
   ]
  },
  {
   "cell_type": "raw",
   "id": "496c6b52-ad40-4053-8bbb-4133f00c7242",
   "metadata": {},
   "source": [
    "# Interpretation\n",
    "\n",
    "- we have 506 obseravation and 15 attributes\n",
    "- we have age column which contain the outlier"
   ]
  },
  {
   "cell_type": "markdown",
   "id": "d7a6a9fd-5585-4692-8f84-763b60bffc04",
   "metadata": {},
   "source": [
    "## Data Pre-Processing"
   ]
  },
  {
   "cell_type": "code",
   "execution_count": 12,
   "id": "578269b0-6d18-4ad0-a437-8d139a13b99d",
   "metadata": {},
   "outputs": [
    {
     "data": {
      "text/plain": [
       "Index(['price', 'resid_area', 'air_qual', 'room_num', 'age', 'distance',\n",
       "       'teachers', 'poor_prop', 'airport', 'n_hos_beds', 'n_hot_rooms',\n",
       "       'waterbody', 'rainfall', 'bus_ter', 'Sold'],\n",
       "      dtype='object')"
      ]
     },
     "execution_count": 12,
     "metadata": {},
     "output_type": "execute_result"
    }
   ],
   "source": [
    "# Lets perform the data cleaning\n",
    "df_house_price.columns"
   ]
  },
  {
   "cell_type": "code",
   "execution_count": 13,
   "id": "2102d4a0-227f-4c4b-a31e-1c7d76613064",
   "metadata": {},
   "outputs": [],
   "source": [
    "dictionary={\n",
    "    'price':'Price',\n",
    "    'resid_area':'Residential_Area',\n",
    "    'air_qual':'Air_quality',\n",
    "    'room_num':'Room_Number',\n",
    "    'age':'Age',\n",
    "    'distance':'Distance',\n",
    "    'teachers':'Teachers',\n",
    "    'poor_prop':'Poor_Property',\n",
    "    'airport':'Airport',\n",
    "    'n_hos_beds':'N_Hospital_Beds',\n",
    "    'n_hot_rooms':'N_Hotel_rooms',\n",
    "    'waterbody':'Waterbody',\n",
    "    'rainfall':'Rainfall',\n",
    "    'bus_ter':'Bus_Ter',\n",
    "    'Sold':'Sold'\n",
    "}"
   ]
  },
  {
   "cell_type": "code",
   "execution_count": 14,
   "id": "4431eb89-b7ca-4086-a8c0-0c4094efddf7",
   "metadata": {},
   "outputs": [],
   "source": [
    "# perform the rename action\n",
    "df_house_price = df_house_price.rename(columns=dictionary)"
   ]
  },
  {
   "cell_type": "code",
   "execution_count": 15,
   "id": "6b473d41-f07e-4ddc-ae83-9855597385a6",
   "metadata": {},
   "outputs": [
    {
     "data": {
      "text/plain": [
       "Index(['Price', 'Residential_Area', 'Air_quality', 'Room_Number', 'Age',\n",
       "       'Distance', 'Teachers', 'Poor_Property', 'Airport', 'N_Hospital_Beds',\n",
       "       'N_Hotel_rooms', 'Waterbody', 'Rainfall', 'Bus_Ter', 'Sold'],\n",
       "      dtype='object')"
      ]
     },
     "execution_count": 15,
     "metadata": {},
     "output_type": "execute_result"
    }
   ],
   "source": [
    "# Do the authentic check\n",
    "df_house_price.columns"
   ]
  },
  {
   "cell_type": "markdown",
   "id": "1ad5da68-b8a6-4361-ae87-b3ed6e40058c",
   "metadata": {},
   "source": [
    "### Null Value Handling"
   ]
  },
  {
   "cell_type": "code",
   "execution_count": 17,
   "id": "1f6739c7-d9e7-4df8-94d3-5a624481ea87",
   "metadata": {},
   "outputs": [
    {
     "data": {
      "text/plain": [
       "Price                 0\n",
       "Residential_Area      0\n",
       "Air_quality           0\n",
       "Room_Number           0\n",
       "Age                   0\n",
       "Distance              0\n",
       "Teachers              0\n",
       "Poor_Property         0\n",
       "Airport               0\n",
       "N_Hospital_Beds       8\n",
       "N_Hotel_rooms         0\n",
       "Waterbody           155\n",
       "Rainfall              0\n",
       "Bus_Ter               0\n",
       "Sold                  0\n",
       "dtype: int64"
      ]
     },
     "execution_count": 17,
     "metadata": {},
     "output_type": "execute_result"
    }
   ],
   "source": [
    "# Find the numbers of missing records\n",
    "df_house_price.isnull().sum()"
   ]
  },
  {
   "cell_type": "code",
   "execution_count": 18,
   "id": "4eee5c19-50a1-476f-b5cc-2e5bed76b8e8",
   "metadata": {},
   "outputs": [
    {
     "data": {
      "text/plain": [
       "Price                0.000000\n",
       "Residential_Area     0.000000\n",
       "Air_quality          0.000000\n",
       "Room_Number          0.000000\n",
       "Age                  0.000000\n",
       "Distance             0.000000\n",
       "Teachers             0.000000\n",
       "Poor_Property        0.000000\n",
       "Airport              0.000000\n",
       "N_Hospital_Beds      1.581028\n",
       "N_Hotel_rooms        0.000000\n",
       "Waterbody           30.632411\n",
       "Rainfall             0.000000\n",
       "Bus_Ter              0.000000\n",
       "Sold                 0.000000\n",
       "dtype: float64"
      ]
     },
     "execution_count": 18,
     "metadata": {},
     "output_type": "execute_result"
    }
   ],
   "source": [
    "# find the percentage\n",
    "df_house_price.isnull().sum()/len(df_house_price)*100"
   ]
  },
  {
   "cell_type": "code",
   "execution_count": 19,
   "id": "c5636fda-b2c7-416f-81ad-e99c989d0274",
   "metadata": {},
   "outputs": [
    {
     "data": {
      "text/plain": [
       "0    River\n",
       "Name: Waterbody, dtype: object"
      ]
     },
     "execution_count": 19,
     "metadata": {},
     "output_type": "execute_result"
    }
   ],
   "source": [
    "# Find the mode of waterbody column\n",
    "df_house_price.Waterbody.mode()"
   ]
  },
  {
   "cell_type": "code",
   "execution_count": 20,
   "id": "76e1dc47-41da-4e95-b632-9372e0840fff",
   "metadata": {},
   "outputs": [
    {
     "name": "stderr",
     "output_type": "stream",
     "text": [
      "C:\\Users\\Lenovo\\AppData\\Local\\Temp\\ipykernel_11708\\8078004.py:2: FutureWarning: A value is trying to be set on a copy of a DataFrame or Series through chained assignment using an inplace method.\n",
      "The behavior will change in pandas 3.0. This inplace method will never work because the intermediate object on which we are setting values always behaves as a copy.\n",
      "\n",
      "For example, when doing 'df[col].method(value, inplace=True)', try using 'df.method({col: value}, inplace=True)' or df[col] = df[col].method(value) instead, to perform the operation inplace on the original object.\n",
      "\n",
      "\n",
      "  df_house_price.Waterbody.fillna('River',inplace = True)\n"
     ]
    }
   ],
   "source": [
    "# lets treat the null values in waterbody column\n",
    "df_house_price.Waterbody.fillna('River',inplace = True)\n"
   ]
  },
  {
   "cell_type": "code",
   "execution_count": 21,
   "id": "a9d004c8-9faf-4be6-a07b-ebadadf17fdb",
   "metadata": {},
   "outputs": [
    {
     "data": {
      "text/plain": [
       "Price               0\n",
       "Residential_Area    0\n",
       "Air_quality         0\n",
       "Room_Number         0\n",
       "Age                 0\n",
       "Distance            0\n",
       "Teachers            0\n",
       "Poor_Property       0\n",
       "Airport             0\n",
       "N_Hospital_Beds     8\n",
       "N_Hotel_rooms       0\n",
       "Waterbody           0\n",
       "Rainfall            0\n",
       "Bus_Ter             0\n",
       "Sold                0\n",
       "dtype: int64"
      ]
     },
     "execution_count": 21,
     "metadata": {},
     "output_type": "execute_result"
    }
   ],
   "source": [
    "# Do the authentic check\n",
    "df_house_price.isnull().sum()"
   ]
  },
  {
   "cell_type": "code",
   "execution_count": 22,
   "id": "1f9aff46-6cfa-4e92-b2cd-4423e68760c7",
   "metadata": {},
   "outputs": [],
   "source": [
    "# N_Hospital_Beds, we have less than 10% of data is missing\n",
    "df_house_price.dropna(inplace=True)"
   ]
  },
  {
   "cell_type": "code",
   "execution_count": 23,
   "id": "94d8c823-28c8-4847-8b9b-00d722895e54",
   "metadata": {},
   "outputs": [
    {
     "data": {
      "text/plain": [
       "Price               0\n",
       "Residential_Area    0\n",
       "Air_quality         0\n",
       "Room_Number         0\n",
       "Age                 0\n",
       "Distance            0\n",
       "Teachers            0\n",
       "Poor_Property       0\n",
       "Airport             0\n",
       "N_Hospital_Beds     0\n",
       "N_Hotel_rooms       0\n",
       "Waterbody           0\n",
       "Rainfall            0\n",
       "Bus_Ter             0\n",
       "Sold                0\n",
       "dtype: int64"
      ]
     },
     "execution_count": 23,
     "metadata": {},
     "output_type": "execute_result"
    }
   ],
   "source": [
    "# Do the authentic check\n",
    "df_house_price.isnull().sum()"
   ]
  },
  {
   "cell_type": "code",
   "execution_count": 24,
   "id": "c375e670-fefb-4adf-b4d9-72efa4a5aeac",
   "metadata": {},
   "outputs": [],
   "source": [
    "df_target=df_house_price['Price']\n",
    "df_feature=df_house_price.drop('Price',axis=1)"
   ]
  },
  {
   "cell_type": "code",
   "execution_count": 25,
   "id": "3f3dd3bb-8d3e-41af-a425-9fc017b0c1ca",
   "metadata": {},
   "outputs": [],
   "source": [
    "# Segregate the data based on the datatype\n",
    "df_num = df_house_price.select_dtypes(include='number')\n",
    "df_cat = df_house_price.select_dtypes(include='object')"
   ]
  },
  {
   "cell_type": "code",
   "execution_count": 26,
   "id": "50fe55dd-0f21-48bb-adac-445ba46a3429",
   "metadata": {},
   "outputs": [
    {
     "data": {
      "text/html": [
       "<div>\n",
       "<style scoped>\n",
       "    .dataframe tbody tr th:only-of-type {\n",
       "        vertical-align: middle;\n",
       "    }\n",
       "\n",
       "    .dataframe tbody tr th {\n",
       "        vertical-align: top;\n",
       "    }\n",
       "\n",
       "    .dataframe thead th {\n",
       "        text-align: right;\n",
       "    }\n",
       "</style>\n",
       "<table border=\"1\" class=\"dataframe\">\n",
       "  <thead>\n",
       "    <tr style=\"text-align: right;\">\n",
       "      <th></th>\n",
       "      <th>Price</th>\n",
       "      <th>Residential_Area</th>\n",
       "      <th>Air_quality</th>\n",
       "      <th>Room_Number</th>\n",
       "      <th>Age</th>\n",
       "      <th>Distance</th>\n",
       "      <th>Teachers</th>\n",
       "      <th>Poor_Property</th>\n",
       "      <th>N_Hospital_Beds</th>\n",
       "      <th>N_Hotel_rooms</th>\n",
       "      <th>Rainfall</th>\n",
       "      <th>Sold</th>\n",
       "    </tr>\n",
       "  </thead>\n",
       "  <tbody>\n",
       "    <tr>\n",
       "      <th>0</th>\n",
       "      <td>24.0</td>\n",
       "      <td>32.31</td>\n",
       "      <td>0.538</td>\n",
       "      <td>6.575</td>\n",
       "      <td>65.2</td>\n",
       "      <td>4.35</td>\n",
       "      <td>24.7</td>\n",
       "      <td>4.98</td>\n",
       "      <td>5.480</td>\n",
       "      <td>11.1920</td>\n",
       "      <td>23</td>\n",
       "      <td>0</td>\n",
       "    </tr>\n",
       "    <tr>\n",
       "      <th>1</th>\n",
       "      <td>21.6</td>\n",
       "      <td>37.07</td>\n",
       "      <td>0.469</td>\n",
       "      <td>6.421</td>\n",
       "      <td>78.9</td>\n",
       "      <td>4.99</td>\n",
       "      <td>22.2</td>\n",
       "      <td>9.14</td>\n",
       "      <td>7.332</td>\n",
       "      <td>12.1728</td>\n",
       "      <td>42</td>\n",
       "      <td>1</td>\n",
       "    </tr>\n",
       "    <tr>\n",
       "      <th>2</th>\n",
       "      <td>34.7</td>\n",
       "      <td>37.07</td>\n",
       "      <td>0.469</td>\n",
       "      <td>7.185</td>\n",
       "      <td>61.1</td>\n",
       "      <td>5.03</td>\n",
       "      <td>22.2</td>\n",
       "      <td>4.03</td>\n",
       "      <td>7.394</td>\n",
       "      <td>101.1200</td>\n",
       "      <td>38</td>\n",
       "      <td>0</td>\n",
       "    </tr>\n",
       "    <tr>\n",
       "      <th>3</th>\n",
       "      <td>33.4</td>\n",
       "      <td>32.18</td>\n",
       "      <td>0.458</td>\n",
       "      <td>6.998</td>\n",
       "      <td>45.8</td>\n",
       "      <td>6.21</td>\n",
       "      <td>21.3</td>\n",
       "      <td>2.94</td>\n",
       "      <td>9.268</td>\n",
       "      <td>11.2672</td>\n",
       "      <td>45</td>\n",
       "      <td>0</td>\n",
       "    </tr>\n",
       "    <tr>\n",
       "      <th>4</th>\n",
       "      <td>36.2</td>\n",
       "      <td>32.18</td>\n",
       "      <td>0.458</td>\n",
       "      <td>7.147</td>\n",
       "      <td>54.2</td>\n",
       "      <td>6.16</td>\n",
       "      <td>21.3</td>\n",
       "      <td>5.33</td>\n",
       "      <td>8.824</td>\n",
       "      <td>11.2896</td>\n",
       "      <td>55</td>\n",
       "      <td>0</td>\n",
       "    </tr>\n",
       "  </tbody>\n",
       "</table>\n",
       "</div>"
      ],
      "text/plain": [
       "   Price  Residential_Area  Air_quality  Room_Number   Age  Distance  \\\n",
       "0   24.0             32.31        0.538        6.575  65.2      4.35   \n",
       "1   21.6             37.07        0.469        6.421  78.9      4.99   \n",
       "2   34.7             37.07        0.469        7.185  61.1      5.03   \n",
       "3   33.4             32.18        0.458        6.998  45.8      6.21   \n",
       "4   36.2             32.18        0.458        7.147  54.2      6.16   \n",
       "\n",
       "   Teachers  Poor_Property  N_Hospital_Beds  N_Hotel_rooms  Rainfall  Sold  \n",
       "0      24.7           4.98            5.480        11.1920        23     0  \n",
       "1      22.2           9.14            7.332        12.1728        42     1  \n",
       "2      22.2           4.03            7.394       101.1200        38     0  \n",
       "3      21.3           2.94            9.268        11.2672        45     0  \n",
       "4      21.3           5.33            8.824        11.2896        55     0  "
      ]
     },
     "execution_count": 26,
     "metadata": {},
     "output_type": "execute_result"
    }
   ],
   "source": [
    "# show the Numerical data\n",
    "df_num.head()"
   ]
  },
  {
   "cell_type": "code",
   "execution_count": 27,
   "id": "83e20d02-731b-41d4-94b8-809fc0daefbe",
   "metadata": {},
   "outputs": [
    {
     "data": {
      "text/html": [
       "<div>\n",
       "<style scoped>\n",
       "    .dataframe tbody tr th:only-of-type {\n",
       "        vertical-align: middle;\n",
       "    }\n",
       "\n",
       "    .dataframe tbody tr th {\n",
       "        vertical-align: top;\n",
       "    }\n",
       "\n",
       "    .dataframe thead th {\n",
       "        text-align: right;\n",
       "    }\n",
       "</style>\n",
       "<table border=\"1\" class=\"dataframe\">\n",
       "  <thead>\n",
       "    <tr style=\"text-align: right;\">\n",
       "      <th></th>\n",
       "      <th>Airport</th>\n",
       "      <th>Waterbody</th>\n",
       "      <th>Bus_Ter</th>\n",
       "    </tr>\n",
       "  </thead>\n",
       "  <tbody>\n",
       "    <tr>\n",
       "      <th>0</th>\n",
       "      <td>YES</td>\n",
       "      <td>River</td>\n",
       "      <td>YES</td>\n",
       "    </tr>\n",
       "    <tr>\n",
       "      <th>1</th>\n",
       "      <td>NO</td>\n",
       "      <td>Lake</td>\n",
       "      <td>YES</td>\n",
       "    </tr>\n",
       "    <tr>\n",
       "      <th>2</th>\n",
       "      <td>NO</td>\n",
       "      <td>River</td>\n",
       "      <td>YES</td>\n",
       "    </tr>\n",
       "    <tr>\n",
       "      <th>3</th>\n",
       "      <td>YES</td>\n",
       "      <td>Lake</td>\n",
       "      <td>YES</td>\n",
       "    </tr>\n",
       "    <tr>\n",
       "      <th>4</th>\n",
       "      <td>NO</td>\n",
       "      <td>Lake</td>\n",
       "      <td>YES</td>\n",
       "    </tr>\n",
       "  </tbody>\n",
       "</table>\n",
       "</div>"
      ],
      "text/plain": [
       "  Airport Waterbody Bus_Ter\n",
       "0     YES     River     YES\n",
       "1      NO      Lake     YES\n",
       "2      NO     River     YES\n",
       "3     YES      Lake     YES\n",
       "4      NO      Lake     YES"
      ]
     },
     "execution_count": 27,
     "metadata": {},
     "output_type": "execute_result"
    }
   ],
   "source": [
    "df_cat.head()"
   ]
  },
  {
   "cell_type": "markdown",
   "id": "4cf4cbdb-da1e-4120-9043-f9ca4025637e",
   "metadata": {},
   "source": [
    "### Perform Encoding on categorical variable"
   ]
  },
  {
   "cell_type": "code",
   "execution_count": 29,
   "id": "6063c55f-d38e-4386-ae57-8e89dea95628",
   "metadata": {},
   "outputs": [],
   "source": [
    "# Use Dummy encoding\n",
    "df_encoded = pd.get_dummies(df_cat)\n",
    "# Reset the index\n",
    "df_encoded = df_encoded.reset_index()"
   ]
  },
  {
   "cell_type": "code",
   "execution_count": 30,
   "id": "5dec0ad2-5fb4-429c-b5cd-82a8b55c587f",
   "metadata": {},
   "outputs": [
    {
     "data": {
      "text/html": [
       "<div>\n",
       "<style scoped>\n",
       "    .dataframe tbody tr th:only-of-type {\n",
       "        vertical-align: middle;\n",
       "    }\n",
       "\n",
       "    .dataframe tbody tr th {\n",
       "        vertical-align: top;\n",
       "    }\n",
       "\n",
       "    .dataframe thead th {\n",
       "        text-align: right;\n",
       "    }\n",
       "</style>\n",
       "<table border=\"1\" class=\"dataframe\">\n",
       "  <thead>\n",
       "    <tr style=\"text-align: right;\">\n",
       "      <th></th>\n",
       "      <th>index</th>\n",
       "      <th>Airport_NO</th>\n",
       "      <th>Airport_YES</th>\n",
       "      <th>Waterbody_Lake</th>\n",
       "      <th>Waterbody_Lake and River</th>\n",
       "      <th>Waterbody_River</th>\n",
       "      <th>Bus_Ter_YES</th>\n",
       "    </tr>\n",
       "  </thead>\n",
       "  <tbody>\n",
       "    <tr>\n",
       "      <th>0</th>\n",
       "      <td>0</td>\n",
       "      <td>False</td>\n",
       "      <td>True</td>\n",
       "      <td>False</td>\n",
       "      <td>False</td>\n",
       "      <td>True</td>\n",
       "      <td>True</td>\n",
       "    </tr>\n",
       "    <tr>\n",
       "      <th>1</th>\n",
       "      <td>1</td>\n",
       "      <td>True</td>\n",
       "      <td>False</td>\n",
       "      <td>True</td>\n",
       "      <td>False</td>\n",
       "      <td>False</td>\n",
       "      <td>True</td>\n",
       "    </tr>\n",
       "    <tr>\n",
       "      <th>2</th>\n",
       "      <td>2</td>\n",
       "      <td>True</td>\n",
       "      <td>False</td>\n",
       "      <td>False</td>\n",
       "      <td>False</td>\n",
       "      <td>True</td>\n",
       "      <td>True</td>\n",
       "    </tr>\n",
       "    <tr>\n",
       "      <th>3</th>\n",
       "      <td>3</td>\n",
       "      <td>False</td>\n",
       "      <td>True</td>\n",
       "      <td>True</td>\n",
       "      <td>False</td>\n",
       "      <td>False</td>\n",
       "      <td>True</td>\n",
       "    </tr>\n",
       "    <tr>\n",
       "      <th>4</th>\n",
       "      <td>4</td>\n",
       "      <td>True</td>\n",
       "      <td>False</td>\n",
       "      <td>True</td>\n",
       "      <td>False</td>\n",
       "      <td>False</td>\n",
       "      <td>True</td>\n",
       "    </tr>\n",
       "  </tbody>\n",
       "</table>\n",
       "</div>"
      ],
      "text/plain": [
       "   index  Airport_NO  Airport_YES  Waterbody_Lake  Waterbody_Lake and River  \\\n",
       "0      0       False         True           False                     False   \n",
       "1      1        True        False            True                     False   \n",
       "2      2        True        False           False                     False   \n",
       "3      3       False         True            True                     False   \n",
       "4      4        True        False            True                     False   \n",
       "\n",
       "   Waterbody_River  Bus_Ter_YES  \n",
       "0             True         True  \n",
       "1            False         True  \n",
       "2             True         True  \n",
       "3            False         True  \n",
       "4            False         True  "
      ]
     },
     "execution_count": 30,
     "metadata": {},
     "output_type": "execute_result"
    }
   ],
   "source": [
    "# Show the encoded data\n",
    "df_encoded.head()"
   ]
  },
  {
   "cell_type": "markdown",
   "id": "13ac3e5f-b5fd-4d10-86be-7d8edc845819",
   "metadata": {},
   "source": [
    "### Perform Scaling on Numerical data"
   ]
  },
  {
   "cell_type": "code",
   "execution_count": 32,
   "id": "5d6136f7-d3a6-476f-a19e-392f51609807",
   "metadata": {},
   "outputs": [],
   "source": [
    "# import the standard scalar\n",
    "from sklearn.preprocessing import StandardScaler\n",
    "\n",
    "# Initiate the standard scalar\n",
    "ss = StandardScaler()"
   ]
  },
  {
   "cell_type": "code",
   "execution_count": 33,
   "id": "702b9fd4-7b27-479f-93ad-402374af410f",
   "metadata": {},
   "outputs": [],
   "source": [
    "# Scale the value present in Numerical data frame\n",
    "scaled=ss.fit_transform(df_num)"
   ]
  },
  {
   "cell_type": "code",
   "execution_count": 34,
   "id": "69e9b798-c7b1-43ac-8c41-7dfb893c84c4",
   "metadata": {},
   "outputs": [
    {
     "data": {
      "text/plain": [
       "array([[ 0.15479189, -1.28244435, -0.13709359, ..., -0.35211111,\n",
       "        -1.30206786, -0.91152748],\n",
       "       [-0.10659165, -0.59005882, -0.73319492, ..., -0.16601943,\n",
       "         0.21519397,  1.09705963],\n",
       "       [ 1.32012686, -0.59005882, -0.73319492, ..., 16.71034024,\n",
       "        -0.10422957, -0.91152748],\n",
       "       ...,\n",
       "       [ 0.14390091,  0.11687263,  0.16527665, ..., -0.16252832,\n",
       "        -0.66322077,  1.09705963],\n",
       "       [-0.06302773,  0.11687263,  0.16527665, ...,  0.40379146,\n",
       "         0.6144734 ,  1.09705963],\n",
       "       [-0.38975716,  0.11687263,  0.16527665, ..., -0.54943507,\n",
       "         0.45476163,  1.09705963]])"
      ]
     },
     "execution_count": 34,
     "metadata": {},
     "output_type": "execute_result"
    }
   ],
   "source": [
    "scaled"
   ]
  },
  {
   "cell_type": "code",
   "execution_count": 35,
   "id": "00d1579c-402c-4a78-841f-4bb25269303a",
   "metadata": {},
   "outputs": [],
   "source": [
    "# Numerate the data into the dataframe\n",
    "scaled_df = pd.DataFrame(scaled,columns=df_num.columns)"
   ]
  },
  {
   "cell_type": "code",
   "execution_count": 36,
   "id": "f722aa81-4611-45a2-84fd-fda56f4731fa",
   "metadata": {},
   "outputs": [],
   "source": [
    "# Reset the Index\n",
    "scaled_df=scaled_df.reset_index()"
   ]
  },
  {
   "cell_type": "code",
   "execution_count": 37,
   "id": "fb023135-d925-4282-8ca4-03305dfbbfa2",
   "metadata": {},
   "outputs": [
    {
     "data": {
      "text/html": [
       "<div>\n",
       "<style scoped>\n",
       "    .dataframe tbody tr th:only-of-type {\n",
       "        vertical-align: middle;\n",
       "    }\n",
       "\n",
       "    .dataframe tbody tr th {\n",
       "        vertical-align: top;\n",
       "    }\n",
       "\n",
       "    .dataframe thead th {\n",
       "        text-align: right;\n",
       "    }\n",
       "</style>\n",
       "<table border=\"1\" class=\"dataframe\">\n",
       "  <thead>\n",
       "    <tr style=\"text-align: right;\">\n",
       "      <th></th>\n",
       "      <th>index</th>\n",
       "      <th>Price</th>\n",
       "      <th>Residential_Area</th>\n",
       "      <th>Air_quality</th>\n",
       "      <th>Room_Number</th>\n",
       "      <th>Age</th>\n",
       "      <th>Distance</th>\n",
       "      <th>Teachers</th>\n",
       "      <th>Poor_Property</th>\n",
       "      <th>N_Hospital_Beds</th>\n",
       "      <th>N_Hotel_rooms</th>\n",
       "      <th>Rainfall</th>\n",
       "      <th>Sold</th>\n",
       "    </tr>\n",
       "  </thead>\n",
       "  <tbody>\n",
       "    <tr>\n",
       "      <th>0</th>\n",
       "      <td>0</td>\n",
       "      <td>0.154792</td>\n",
       "      <td>-1.282444</td>\n",
       "      <td>-0.137094</td>\n",
       "      <td>0.408975</td>\n",
       "      <td>-0.115644</td>\n",
       "      <td>0.172845</td>\n",
       "      <td>1.462167</td>\n",
       "      <td>-1.066368</td>\n",
       "      <td>-1.640299</td>\n",
       "      <td>-0.352111</td>\n",
       "      <td>-1.302068</td>\n",
       "      <td>-0.911527</td>\n",
       "    </tr>\n",
       "    <tr>\n",
       "      <th>1</th>\n",
       "      <td>1</td>\n",
       "      <td>-0.106592</td>\n",
       "      <td>-0.590059</td>\n",
       "      <td>-0.733195</td>\n",
       "      <td>0.189974</td>\n",
       "      <td>0.369741</td>\n",
       "      <td>0.476100</td>\n",
       "      <td>0.304963</td>\n",
       "      <td>-0.484136</td>\n",
       "      <td>-0.384875</td>\n",
       "      <td>-0.166019</td>\n",
       "      <td>0.215194</td>\n",
       "      <td>1.097060</td>\n",
       "    </tr>\n",
       "    <tr>\n",
       "      <th>2</th>\n",
       "      <td>2</td>\n",
       "      <td>1.320127</td>\n",
       "      <td>-0.590059</td>\n",
       "      <td>-0.733195</td>\n",
       "      <td>1.276446</td>\n",
       "      <td>-0.260905</td>\n",
       "      <td>0.495053</td>\n",
       "      <td>0.304963</td>\n",
       "      <td>-1.199330</td>\n",
       "      <td>-0.342847</td>\n",
       "      <td>16.710340</td>\n",
       "      <td>-0.104230</td>\n",
       "      <td>-0.911527</td>\n",
       "    </tr>\n",
       "    <tr>\n",
       "      <th>3</th>\n",
       "      <td>3</td>\n",
       "      <td>1.178544</td>\n",
       "      <td>-1.301354</td>\n",
       "      <td>-0.828226</td>\n",
       "      <td>1.010516</td>\n",
       "      <td>-0.802977</td>\n",
       "      <td>1.054179</td>\n",
       "      <td>-0.111631</td>\n",
       "      <td>-1.351886</td>\n",
       "      <td>0.927490</td>\n",
       "      <td>-0.337843</td>\n",
       "      <td>0.454762</td>\n",
       "      <td>-0.911527</td>\n",
       "    </tr>\n",
       "    <tr>\n",
       "      <th>4</th>\n",
       "      <td>4</td>\n",
       "      <td>1.483492</td>\n",
       "      <td>-1.301354</td>\n",
       "      <td>-0.828226</td>\n",
       "      <td>1.222407</td>\n",
       "      <td>-0.505369</td>\n",
       "      <td>1.030487</td>\n",
       "      <td>-0.111631</td>\n",
       "      <td>-1.017382</td>\n",
       "      <td>0.626514</td>\n",
       "      <td>-0.333593</td>\n",
       "      <td>1.253320</td>\n",
       "      <td>-0.911527</td>\n",
       "    </tr>\n",
       "  </tbody>\n",
       "</table>\n",
       "</div>"
      ],
      "text/plain": [
       "   index     Price  Residential_Area  Air_quality  Room_Number       Age  \\\n",
       "0      0  0.154792         -1.282444    -0.137094     0.408975 -0.115644   \n",
       "1      1 -0.106592         -0.590059    -0.733195     0.189974  0.369741   \n",
       "2      2  1.320127         -0.590059    -0.733195     1.276446 -0.260905   \n",
       "3      3  1.178544         -1.301354    -0.828226     1.010516 -0.802977   \n",
       "4      4  1.483492         -1.301354    -0.828226     1.222407 -0.505369   \n",
       "\n",
       "   Distance  Teachers  Poor_Property  N_Hospital_Beds  N_Hotel_rooms  \\\n",
       "0  0.172845  1.462167      -1.066368        -1.640299      -0.352111   \n",
       "1  0.476100  0.304963      -0.484136        -0.384875      -0.166019   \n",
       "2  0.495053  0.304963      -1.199330        -0.342847      16.710340   \n",
       "3  1.054179 -0.111631      -1.351886         0.927490      -0.337843   \n",
       "4  1.030487 -0.111631      -1.017382         0.626514      -0.333593   \n",
       "\n",
       "   Rainfall      Sold  \n",
       "0 -1.302068 -0.911527  \n",
       "1  0.215194  1.097060  \n",
       "2 -0.104230 -0.911527  \n",
       "3  0.454762 -0.911527  \n",
       "4  1.253320 -0.911527  "
      ]
     },
     "execution_count": 37,
     "metadata": {},
     "output_type": "execute_result"
    }
   ],
   "source": [
    "# show the data\n",
    "scaled_df.head()"
   ]
  },
  {
   "cell_type": "markdown",
   "id": "a0869ea5-fe38-437d-9382-1dff5d2119a1",
   "metadata": {},
   "source": [
    "### Perform the Concatenate operation\n"
   ]
  },
  {
   "cell_type": "code",
   "execution_count": 39,
   "id": "d0ed6b50-0e0f-43f2-a0d9-2e28d41aa855",
   "metadata": {},
   "outputs": [],
   "source": [
    "# concate encoded variable and scaled variable\n",
    "df_independent = pd.concat([df_encoded,scaled_df],axis=1)"
   ]
  },
  {
   "cell_type": "code",
   "execution_count": 40,
   "id": "eb89fb5c-f504-4506-b944-935227a72fda",
   "metadata": {},
   "outputs": [
    {
     "data": {
      "text/html": [
       "<div>\n",
       "<style scoped>\n",
       "    .dataframe tbody tr th:only-of-type {\n",
       "        vertical-align: middle;\n",
       "    }\n",
       "\n",
       "    .dataframe tbody tr th {\n",
       "        vertical-align: top;\n",
       "    }\n",
       "\n",
       "    .dataframe thead th {\n",
       "        text-align: right;\n",
       "    }\n",
       "</style>\n",
       "<table border=\"1\" class=\"dataframe\">\n",
       "  <thead>\n",
       "    <tr style=\"text-align: right;\">\n",
       "      <th></th>\n",
       "      <th>index</th>\n",
       "      <th>Airport_NO</th>\n",
       "      <th>Airport_YES</th>\n",
       "      <th>Waterbody_Lake</th>\n",
       "      <th>Waterbody_Lake and River</th>\n",
       "      <th>Waterbody_River</th>\n",
       "      <th>Bus_Ter_YES</th>\n",
       "      <th>index</th>\n",
       "      <th>Price</th>\n",
       "      <th>Residential_Area</th>\n",
       "      <th>Air_quality</th>\n",
       "      <th>Room_Number</th>\n",
       "      <th>Age</th>\n",
       "      <th>Distance</th>\n",
       "      <th>Teachers</th>\n",
       "      <th>Poor_Property</th>\n",
       "      <th>N_Hospital_Beds</th>\n",
       "      <th>N_Hotel_rooms</th>\n",
       "      <th>Rainfall</th>\n",
       "      <th>Sold</th>\n",
       "    </tr>\n",
       "  </thead>\n",
       "  <tbody>\n",
       "    <tr>\n",
       "      <th>0</th>\n",
       "      <td>0</td>\n",
       "      <td>False</td>\n",
       "      <td>True</td>\n",
       "      <td>False</td>\n",
       "      <td>False</td>\n",
       "      <td>True</td>\n",
       "      <td>True</td>\n",
       "      <td>0</td>\n",
       "      <td>0.154792</td>\n",
       "      <td>-1.282444</td>\n",
       "      <td>-0.137094</td>\n",
       "      <td>0.408975</td>\n",
       "      <td>-0.115644</td>\n",
       "      <td>0.172845</td>\n",
       "      <td>1.462167</td>\n",
       "      <td>-1.066368</td>\n",
       "      <td>-1.640299</td>\n",
       "      <td>-0.352111</td>\n",
       "      <td>-1.302068</td>\n",
       "      <td>-0.911527</td>\n",
       "    </tr>\n",
       "    <tr>\n",
       "      <th>1</th>\n",
       "      <td>1</td>\n",
       "      <td>True</td>\n",
       "      <td>False</td>\n",
       "      <td>True</td>\n",
       "      <td>False</td>\n",
       "      <td>False</td>\n",
       "      <td>True</td>\n",
       "      <td>1</td>\n",
       "      <td>-0.106592</td>\n",
       "      <td>-0.590059</td>\n",
       "      <td>-0.733195</td>\n",
       "      <td>0.189974</td>\n",
       "      <td>0.369741</td>\n",
       "      <td>0.476100</td>\n",
       "      <td>0.304963</td>\n",
       "      <td>-0.484136</td>\n",
       "      <td>-0.384875</td>\n",
       "      <td>-0.166019</td>\n",
       "      <td>0.215194</td>\n",
       "      <td>1.097060</td>\n",
       "    </tr>\n",
       "    <tr>\n",
       "      <th>2</th>\n",
       "      <td>2</td>\n",
       "      <td>True</td>\n",
       "      <td>False</td>\n",
       "      <td>False</td>\n",
       "      <td>False</td>\n",
       "      <td>True</td>\n",
       "      <td>True</td>\n",
       "      <td>2</td>\n",
       "      <td>1.320127</td>\n",
       "      <td>-0.590059</td>\n",
       "      <td>-0.733195</td>\n",
       "      <td>1.276446</td>\n",
       "      <td>-0.260905</td>\n",
       "      <td>0.495053</td>\n",
       "      <td>0.304963</td>\n",
       "      <td>-1.199330</td>\n",
       "      <td>-0.342847</td>\n",
       "      <td>16.710340</td>\n",
       "      <td>-0.104230</td>\n",
       "      <td>-0.911527</td>\n",
       "    </tr>\n",
       "    <tr>\n",
       "      <th>3</th>\n",
       "      <td>3</td>\n",
       "      <td>False</td>\n",
       "      <td>True</td>\n",
       "      <td>True</td>\n",
       "      <td>False</td>\n",
       "      <td>False</td>\n",
       "      <td>True</td>\n",
       "      <td>3</td>\n",
       "      <td>1.178544</td>\n",
       "      <td>-1.301354</td>\n",
       "      <td>-0.828226</td>\n",
       "      <td>1.010516</td>\n",
       "      <td>-0.802977</td>\n",
       "      <td>1.054179</td>\n",
       "      <td>-0.111631</td>\n",
       "      <td>-1.351886</td>\n",
       "      <td>0.927490</td>\n",
       "      <td>-0.337843</td>\n",
       "      <td>0.454762</td>\n",
       "      <td>-0.911527</td>\n",
       "    </tr>\n",
       "    <tr>\n",
       "      <th>4</th>\n",
       "      <td>4</td>\n",
       "      <td>True</td>\n",
       "      <td>False</td>\n",
       "      <td>True</td>\n",
       "      <td>False</td>\n",
       "      <td>False</td>\n",
       "      <td>True</td>\n",
       "      <td>4</td>\n",
       "      <td>1.483492</td>\n",
       "      <td>-1.301354</td>\n",
       "      <td>-0.828226</td>\n",
       "      <td>1.222407</td>\n",
       "      <td>-0.505369</td>\n",
       "      <td>1.030487</td>\n",
       "      <td>-0.111631</td>\n",
       "      <td>-1.017382</td>\n",
       "      <td>0.626514</td>\n",
       "      <td>-0.333593</td>\n",
       "      <td>1.253320</td>\n",
       "      <td>-0.911527</td>\n",
       "    </tr>\n",
       "  </tbody>\n",
       "</table>\n",
       "</div>"
      ],
      "text/plain": [
       "   index  Airport_NO  Airport_YES  Waterbody_Lake  Waterbody_Lake and River  \\\n",
       "0      0       False         True           False                     False   \n",
       "1      1        True        False            True                     False   \n",
       "2      2        True        False           False                     False   \n",
       "3      3       False         True            True                     False   \n",
       "4      4        True        False            True                     False   \n",
       "\n",
       "   Waterbody_River  Bus_Ter_YES  index     Price  Residential_Area  \\\n",
       "0             True         True      0  0.154792         -1.282444   \n",
       "1            False         True      1 -0.106592         -0.590059   \n",
       "2             True         True      2  1.320127         -0.590059   \n",
       "3            False         True      3  1.178544         -1.301354   \n",
       "4            False         True      4  1.483492         -1.301354   \n",
       "\n",
       "   Air_quality  Room_Number       Age  Distance  Teachers  Poor_Property  \\\n",
       "0    -0.137094     0.408975 -0.115644  0.172845  1.462167      -1.066368   \n",
       "1    -0.733195     0.189974  0.369741  0.476100  0.304963      -0.484136   \n",
       "2    -0.733195     1.276446 -0.260905  0.495053  0.304963      -1.199330   \n",
       "3    -0.828226     1.010516 -0.802977  1.054179 -0.111631      -1.351886   \n",
       "4    -0.828226     1.222407 -0.505369  1.030487 -0.111631      -1.017382   \n",
       "\n",
       "   N_Hospital_Beds  N_Hotel_rooms  Rainfall      Sold  \n",
       "0        -1.640299      -0.352111 -1.302068 -0.911527  \n",
       "1        -0.384875      -0.166019  0.215194  1.097060  \n",
       "2        -0.342847      16.710340 -0.104230 -0.911527  \n",
       "3         0.927490      -0.337843  0.454762 -0.911527  \n",
       "4         0.626514      -0.333593  1.253320 -0.911527  "
      ]
     },
     "execution_count": 40,
     "metadata": {},
     "output_type": "execute_result"
    }
   ],
   "source": [
    "# Show the data\n",
    "df_independent.head()"
   ]
  },
  {
   "cell_type": "markdown",
   "id": "650d3177-3669-41d7-840d-8d80d4e5e177",
   "metadata": {},
   "source": [
    "## Split the data for training and testing"
   ]
  },
  {
   "cell_type": "code",
   "execution_count": 42,
   "id": "75340360-2341-4d70-8787-ae0c4636724c",
   "metadata": {},
   "outputs": [],
   "source": [
    "# import the train test split\n",
    "from sklearn.model_selection import train_test_split"
   ]
  },
  {
   "cell_type": "code",
   "execution_count": 43,
   "id": "5e258d96-e0b7-46a1-ac7f-25266103cd6e",
   "metadata": {},
   "outputs": [],
   "source": [
    "# Split the data \n",
    "x_train,x_test,y_train,y_test=train_test_split(df_independent,\n",
    "                                              df_target,\n",
    "                                              test_size=0.2)"
   ]
  },
  {
   "cell_type": "code",
   "execution_count": 44,
   "id": "ad52cd13-9744-46a6-b168-30a45cc9b0a6",
   "metadata": {},
   "outputs": [
    {
     "data": {
      "text/plain": [
       "(398, 20)"
      ]
     },
     "execution_count": 44,
     "metadata": {},
     "output_type": "execute_result"
    }
   ],
   "source": [
    "# Check the size\n",
    "x_train.shape"
   ]
  },
  {
   "cell_type": "code",
   "execution_count": 45,
   "id": "555dba76-ee02-4a9c-9459-84a081c69626",
   "metadata": {},
   "outputs": [
    {
     "data": {
      "text/plain": [
       "(100, 20)"
      ]
     },
     "execution_count": 45,
     "metadata": {},
     "output_type": "execute_result"
    }
   ],
   "source": [
    "x_test.shape"
   ]
  },
  {
   "cell_type": "code",
   "execution_count": 46,
   "id": "526fb495-d166-4e08-ab5a-95b957b21537",
   "metadata": {},
   "outputs": [
    {
     "data": {
      "text/plain": [
       "(398,)"
      ]
     },
     "execution_count": 46,
     "metadata": {},
     "output_type": "execute_result"
    }
   ],
   "source": [
    "y_train.shape"
   ]
  },
  {
   "cell_type": "code",
   "execution_count": 47,
   "id": "6f7e9212-59b6-440e-810a-817b88c80b5e",
   "metadata": {},
   "outputs": [
    {
     "data": {
      "text/plain": [
       "(100,)"
      ]
     },
     "execution_count": 47,
     "metadata": {},
     "output_type": "execute_result"
    }
   ],
   "source": [
    "y_test.shape"
   ]
  },
  {
   "cell_type": "markdown",
   "id": "96a535f7-00c5-4446-856d-0719f63e6246",
   "metadata": {},
   "source": [
    "# Apply linear regression"
   ]
  },
  {
   "cell_type": "code",
   "execution_count": 49,
   "id": "835af0ae-66e5-434f-b9bb-5796d7c7ebc9",
   "metadata": {},
   "outputs": [],
   "source": [
    "# import the model\n",
    "from sklearn.linear_model import LinearRegression\n",
    "from sklearn.metrics import mean_squared_error"
   ]
  },
  {
   "cell_type": "code",
   "execution_count": 50,
   "id": "61f8df73-c98e-440e-a103-04926a953683",
   "metadata": {},
   "outputs": [],
   "source": [
    "# Initiate the model\n",
    "LR=LinearRegression()"
   ]
  },
  {
   "cell_type": "code",
   "execution_count": 51,
   "id": "b0a1e78b-d522-469b-ae98-8c9cff7a732e",
   "metadata": {},
   "outputs": [],
   "source": [
    "# Train the Linear Regression model\n",
    "model_lr=LR.fit(x_train,y_train)"
   ]
  },
  {
   "cell_type": "code",
   "execution_count": 52,
   "id": "9ab22ac5-2da0-4466-ad32-9b43eafeec1f",
   "metadata": {},
   "outputs": [],
   "source": [
    "# Perform the prediction\n",
    "predicted=model_lr.predict(x_test)"
   ]
  },
  {
   "cell_type": "code",
   "execution_count": 53,
   "id": "26692790-76e8-4fa3-8ba7-7e12a4d9e948",
   "metadata": {},
   "outputs": [
    {
     "data": {
      "text/plain": [
       "array([42.8, 12.5,  5.6, 14.6, 21.7, 20.6, 23.4, 16.7, 50. , 19.5, 18.5,\n",
       "       24.1, 22.7, 20.5, 31.5, 16.6, 29. , 10.2, 19.5, 19.8, 29.8, 14.6,\n",
       "       13. , 25. , 35.4, 13.1, 26.6,  5. , 50. , 13.3, 13.3, 30.5, 19.4,\n",
       "       13.1, 11. , 14.3, 27.5, 21.7, 20. , 15.7, 10.8, 16.5, 17.8, 21.4,\n",
       "       15.6, 22.5, 21.2, 23.8, 19.4, 33.1, 13.4, 17.1, 22.8, 37.6, 18.7,\n",
       "       23.1, 10.5, 23. , 34.9, 23.8, 20. , 22.9, 20.5, 23.9, 21.6, 33.3,\n",
       "       50. , 22. , 35.4, 23.9, 13.4, 14.1, 26.6,  5. , 20.4, 18.5, 17.2,\n",
       "       17.8, 13.3, 19.4, 21.1, 33.2, 22.5, 20.3, 23.8, 32.4, 44.8,  9.5,\n",
       "       15.1, 20.6, 30.1, 50. ,  8.1, 16.1, 17.5, 50. , 22.2, 21.2, 11.8,\n",
       "       33. ])"
      ]
     },
     "execution_count": 53,
     "metadata": {},
     "output_type": "execute_result"
    }
   ],
   "source": [
    "# Show the predicted values\n",
    "predicted"
   ]
  },
  {
   "cell_type": "code",
   "execution_count": 54,
   "id": "213c992f-b365-49f9-91d0-baeb5094ee24",
   "metadata": {},
   "outputs": [
    {
     "data": {
      "text/plain": [
       "253    42.8\n",
       "396    12.5\n",
       "400     5.6\n",
       "478    14.6\n",
       "12     21.7\n",
       "       ... \n",
       "166    50.0\n",
       "62     22.2\n",
       "44     21.2\n",
       "445    11.8\n",
       "64     33.0\n",
       "Name: Price, Length: 100, dtype: float64"
      ]
     },
     "execution_count": 54,
     "metadata": {},
     "output_type": "execute_result"
    }
   ],
   "source": [
    "y_test"
   ]
  },
  {
   "cell_type": "code",
   "execution_count": 55,
   "id": "b693a827-a374-4952-9687-f5f25feb51f1",
   "metadata": {},
   "outputs": [
    {
     "data": {
      "text/plain": [
       "0.0"
      ]
     },
     "execution_count": 55,
     "metadata": {},
     "output_type": "execute_result"
    }
   ],
   "source": [
    "# evaluate the model\n",
    "round(mean_squared_error(predicted,y_test),3)"
   ]
  },
  {
   "cell_type": "code",
   "execution_count": null,
   "id": "6803aefb-8380-4e74-89f5-52aaf87266bc",
   "metadata": {},
   "outputs": [],
   "source": []
  }
 ],
 "metadata": {
  "kernelspec": {
   "display_name": "Python 3 (ipykernel)",
   "language": "python",
   "name": "python3"
  },
  "language_info": {
   "codemirror_mode": {
    "name": "ipython",
    "version": 3
   },
   "file_extension": ".py",
   "mimetype": "text/x-python",
   "name": "python",
   "nbconvert_exporter": "python",
   "pygments_lexer": "ipython3",
   "version": "3.12.4"
  }
 },
 "nbformat": 4,
 "nbformat_minor": 5
}
