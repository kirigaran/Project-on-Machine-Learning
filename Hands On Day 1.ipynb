{
 "cells": [
  {
   "cell_type": "code",
   "execution_count": 1,
   "id": "496fd663-ad33-451d-b71e-75423e9ca466",
   "metadata": {},
   "outputs": [],
   "source": [
    "# declare a variable\n",
    "# variables are the containers used to store any  data types\n",
    "X=10"
   ]
  },
  {
   "cell_type": "code",
   "execution_count": 2,
   "id": "2f633f9b-3ac9-4df1-8b47-8cc502a7eff7",
   "metadata": {},
   "outputs": [
    {
     "name": "stdout",
     "output_type": "stream",
     "text": [
      "10\n"
     ]
    }
   ],
   "source": [
    "# print the variable\n",
    "print(X)"
   ]
  },
  {
   "cell_type": "code",
   "execution_count": 3,
   "id": "3486e4b5-dd08-4e2d-8fa7-04c1811a6aac",
   "metadata": {},
   "outputs": [
    {
     "data": {
      "text/plain": [
       "int"
      ]
     },
     "execution_count": 3,
     "metadata": {},
     "output_type": "execute_result"
    }
   ],
   "source": [
    "# check the data type of the variable \n",
    "type(X)"
   ]
  },
  {
   "cell_type": "code",
   "execution_count": 4,
   "id": "d7617636-f03f-45ca-8c3a-2cfeb0faa1af",
   "metadata": {},
   "outputs": [
    {
     "name": "stdout",
     "output_type": "stream",
     "text": [
      "data type of the variable  <class 'int'>\n"
     ]
    }
   ],
   "source": [
    "# create an integer data type\n",
    "int_1=20\n",
    "\n",
    "# show the data type\n",
    "print('data type of the variable ',type(int_1))"
   ]
  },
  {
   "cell_type": "code",
   "execution_count": 5,
   "id": "2a75368d-ee35-4f92-990e-2e96b57f90dd",
   "metadata": {},
   "outputs": [
    {
     "name": "stdout",
     "output_type": "stream",
     "text": [
      "data type of the variable  <class 'float'>\n"
     ]
    }
   ],
   "source": [
    "# create an float data type\n",
    "float_1=20.38\n",
    "\n",
    "# show the data type\n",
    "print('data type of the variable ',type(float_1))"
   ]
  },
  {
   "cell_type": "code",
   "execution_count": 6,
   "id": "2a235598-790f-4e82-bb8f-518d20306b9b",
   "metadata": {},
   "outputs": [
    {
     "name": "stdout",
     "output_type": "stream",
     "text": [
      "data type of the variable  <class 'str'>\n"
     ]
    }
   ],
   "source": [
    "# create an string space data type\n",
    "string_1='Gopal'\n",
    "\n",
    "# show the data type\n",
    "print('data type of the variable ',type(string_1))"
   ]
  },
  {
   "cell_type": "code",
   "execution_count": 7,
   "id": "a8d6fd5e-3a80-4de1-8ce6-bd5336b72c9c",
   "metadata": {},
   "outputs": [
    {
     "name": "stdout",
     "output_type": "stream",
     "text": [
      "data type of the variable  <class 'list'>\n",
      "data type of the variable  <class 'list'>\n",
      "data type of the variable  <class 'list'>\n"
     ]
    }
   ],
   "source": [
    "# create an list\n",
    "list_1=[10,20,30,40]\n",
    "list_2=[10.38,20.46,30.39,40.68]\n",
    "list_3=['Gopal','Nirmal','Nandhini','Pooja']\n",
    "\n",
    "# show the data type\n",
    "print('data type of the variable ',type(list_1))\n",
    "print('data type of the variable ',type(list_2))\n",
    "print('data type of the variable ',type(list_3))"
   ]
  },
  {
   "cell_type": "code",
   "execution_count": 8,
   "id": "54b6d574-6fbf-49ac-9cc9-e9770ec92d37",
   "metadata": {},
   "outputs": [
    {
     "name": "stdout",
     "output_type": "stream",
     "text": [
      "data type of the variable  <class 'tuple'>\n",
      "data type of the variable  <class 'tuple'>\n",
      "data type of the variable  <class 'tuple'>\n"
     ]
    }
   ],
   "source": [
    "# create an tuple\n",
    "tuple_1=(10,20,30,40)\n",
    "tuple_2=(10.38,20.46,30.39,40.68)\n",
    "tuple_3=('Gopal','Nirmal','Nandhini','Pooja')\n",
    "\n",
    "# show the data type\n",
    "print('data type of the variable ',type(tuple_1))\n",
    "print('data type of the variable ',type(tuple_2))\n",
    "print('data type of the variable ',type(tuple_3))"
   ]
  },
  {
   "cell_type": "code",
   "execution_count": 9,
   "id": "ed71bf42-46af-4ada-941e-e85cb31da8c6",
   "metadata": {},
   "outputs": [
    {
     "name": "stdout",
     "output_type": "stream",
     "text": [
      "data type of the variable  <class 'set'>\n",
      "data type of the variable  <class 'set'>\n",
      "data type of the variable  <class 'set'>\n"
     ]
    }
   ],
   "source": [
    "# create an set\n",
    "set_1={10,20,30,40}\n",
    "set_2={10.38,20.46,30.39,40.68}\n",
    "set_3={'Gopal','Nirmal','Nandhini','Pooja'}\n",
    "\n",
    "# show the data type\n",
    "print('data type of the variable ',type(set_1))\n",
    "print('data type of the variable ',type(set_2))\n",
    "print('data type of the variable ',type(set_3))"
   ]
  },
  {
   "cell_type": "code",
   "execution_count": 10,
   "id": "a9e6a0b6-d478-40cd-bcab-21ddd7fe6dfc",
   "metadata": {},
   "outputs": [
    {
     "name": "stdout",
     "output_type": "stream",
     "text": [
      "data type of the variable  <class 'bool'>\n",
      "data type of the variable  <class 'bool'>\n"
     ]
    }
   ],
   "source": [
    "# create an boolean data type\n",
    "boolean_1=True\n",
    "boolean_2=False\n",
    "\n",
    "# show the data type\n",
    "print('data type of the variable ',type(boolean_1))\n",
    "print('data type of the variable ',type(boolean_2))"
   ]
  },
  {
   "cell_type": "code",
   "execution_count": 11,
   "id": "68f149f0-c3db-4cbc-bcbb-de0efe284d0e",
   "metadata": {},
   "outputs": [
    {
     "name": "stdout",
     "output_type": "stream",
     "text": [
      "data type of the variable  <class 'dict'>\n"
     ]
    }
   ],
   "source": [
    "# create an dictionary\n",
    "dictionary_1={'list_1':[10,20,30,40],\n",
    "            'tuple_1':(10,20,30,40),\n",
    "            'set_1':{10,20,30,40}}\n",
    "\n",
    "#show the data type\n",
    "print('data type of the variable ',type(dictionary_1))"
   ]
  },
  {
   "cell_type": "markdown",
   "id": "97cc95c9-7fe0-4e24-b8de-560ef0c43c0d",
   "metadata": {},
   "source": [
    "# basic operations"
   ]
  },
  {
   "cell_type": "code",
   "execution_count": 13,
   "id": "eabcca25-7385-430c-b743-6369f397b28f",
   "metadata": {},
   "outputs": [
    {
     "name": "stdout",
     "output_type": "stream",
     "text": [
      "data type of the variable  <class 'float'>\n",
      "data type of the variable  <class 'int'>\n"
     ]
    }
   ],
   "source": [
    "# Task1:Type casting \n",
    "float_2=45.96\n",
    "\n",
    "# show the data type\n",
    "print('data type of the variable ',type(float_2))\n",
    "\n",
    "# do the type casting\n",
    "int_2=int(float_2)\n",
    "\n",
    "# show the data type\n",
    "print('data type of the variable ',type(int_2))\n"
   ]
  },
  {
   "cell_type": "code",
   "execution_count": 14,
   "id": "7ff1462f-e419-4e90-8527-b90bed47a148",
   "metadata": {},
   "outputs": [
    {
     "name": "stdout",
     "output_type": "stream",
     "text": [
      "data type of the variable  <class 'int'>\n",
      "data type of the variable  <class 'float'>\n"
     ]
    }
   ],
   "source": [
    "# Task1:Type casting(integer to float)\n",
    "int_3=5\n",
    "\n",
    "# show the data type\n",
    "print('data type of the variable ',type(int_3))\n",
    "\n",
    "# do the type casting\n",
    "float_3=float(int_3)\n",
    "\n",
    "# show the data type\n",
    "print('data type of the variable ',type(float_3))\n"
   ]
  },
  {
   "cell_type": "code",
   "execution_count": 15,
   "id": "f60282c8-68d2-4100-b5eb-5d5e9a5e4f68",
   "metadata": {},
   "outputs": [
    {
     "name": "stdout",
     "output_type": "stream",
     "text": [
      "rounded value are: 10.123\n"
     ]
    }
   ],
   "source": [
    "# Task2:use of round function\n",
    "float_4=10.1234567890\n",
    "\n",
    "# round this value till three decimal places\n",
    "rounded_value=round(float_4,3)\n",
    "# show the output\n",
    "print('rounded value are:',rounded_value)"
   ]
  },
  {
   "cell_type": "markdown",
   "id": "65ee7477-3e40-4c65-8fb5-3965db9e0ba9",
   "metadata": {},
   "source": [
    "# Arithmetic operations on a data"
   ]
  },
  {
   "cell_type": "code",
   "execution_count": 17,
   "id": "a14b3465-f0b5-431c-a5d1-28813496c68a",
   "metadata": {},
   "outputs": [
    {
     "name": "stdout",
     "output_type": "stream",
     "text": [
      "Addition of two variables: 30\n"
     ]
    }
   ],
   "source": [
    "# Addition operation\n",
    "# declare the variable\n",
    "a=10\n",
    "b=20\n",
    "\n",
    "# perform the sum\n",
    "sum_1=a+b\n",
    "\n",
    "#show the output\n",
    "print('Addition of two variables:',sum_1)"
   ]
  },
  {
   "cell_type": "code",
   "execution_count": 18,
   "id": "8be8384c-4500-4aa8-b798-b16323f3ab14",
   "metadata": {},
   "outputs": [
    {
     "name": "stdout",
     "output_type": "stream",
     "text": [
      "Subtraction of two variables: 10\n"
     ]
    }
   ],
   "source": [
    "# Subtraction operation\n",
    "# declare the variable\n",
    "a=20\n",
    "b=10\n",
    "\n",
    "# perform the sum\n",
    "sub_1=a-b\n",
    "\n",
    "#show the output\n",
    "print('Subtraction of two variables:',sub_1)"
   ]
  },
  {
   "cell_type": "code",
   "execution_count": 19,
   "id": "7f565060-b309-41cd-8c25-0c072d769d3e",
   "metadata": {},
   "outputs": [
    {
     "name": "stdout",
     "output_type": "stream",
     "text": [
      "Multiplication of two variables: 200\n"
     ]
    }
   ],
   "source": [
    "# Multiplication operation\n",
    "# declare the variable\n",
    "a=20\n",
    "b=10\n",
    "\n",
    "# perform the sum\n",
    "mul_1=a*b\n",
    "\n",
    "#show the output\n",
    "print('Multiplication of two variables:',mul_1)"
   ]
  },
  {
   "cell_type": "code",
   "execution_count": 20,
   "id": "51779b4f-9e86-4105-846d-21d05bf9cef9",
   "metadata": {},
   "outputs": [
    {
     "name": "stdout",
     "output_type": "stream",
     "text": [
      "Division of two variables: 2.0\n"
     ]
    }
   ],
   "source": [
    "# Division operation\n",
    "# declare the variable\n",
    "a=20\n",
    "b=10\n",
    "\n",
    "# perform the sum\n",
    "div_1=a/b\n",
    "\n",
    "#show the output\n",
    "print('Division of two variables:',div_1)"
   ]
  },
  {
   "cell_type": "markdown",
   "id": "19290e21-e3d2-4878-a368-fbdd935d1efe",
   "metadata": {},
   "source": [
    "# User defined functions"
   ]
  },
  {
   "cell_type": "code",
   "execution_count": 22,
   "id": "11a3cb13-fe4d-466b-9fd7-5ef6aa39c7e0",
   "metadata": {},
   "outputs": [
    {
     "data": {
      "text/plain": [
       "30"
      ]
     },
     "execution_count": 22,
     "metadata": {},
     "output_type": "execute_result"
    }
   ],
   "source": [
    "# declare the function named as 'summation' ,who can perform the addition in two numbers\n",
    "def summation():\n",
    "    x=10\n",
    "    y=20\n",
    "    summation=x+y\n",
    "    return summation\n",
    "\n",
    "# call the function\n",
    "summation()"
   ]
  },
  {
   "cell_type": "code",
   "execution_count": 23,
   "id": "48e5dff7-8a6e-4c61-8c14-df117c63ebd4",
   "metadata": {},
   "outputs": [
    {
     "data": {
      "text/plain": [
       "-10"
      ]
     },
     "execution_count": 23,
     "metadata": {},
     "output_type": "execute_result"
    }
   ],
   "source": [
    "# dclare the function named as'Subtraction',\n",
    "# who can perform this subtraction between two variables\n",
    "def subtraction(x,y):\n",
    "    subtraction=x-y\n",
    "    return subtraction\n",
    "\n",
    "#call the function\n",
    "subtraction(10,20)\n"
   ]
  },
  {
   "cell_type": "code",
   "execution_count": 24,
   "id": "39af9896-78b4-4ebb-885a-53dfbc8eec11",
   "metadata": {},
   "outputs": [
    {
     "name": "stdin",
     "output_type": "stream",
     "text": [
      "Give the first number: 10\n",
      "Give the second number: 30\n"
     ]
    },
    {
     "data": {
      "text/plain": [
       "300"
      ]
     },
     "execution_count": 24,
     "metadata": {},
     "output_type": "execute_result"
    }
   ],
   "source": [
    "# dclare the function named as'Multiplication',\n",
    "# who can perform this multiplication between two variables\n",
    "# This time you need to take the input from the user   \n",
    "\n",
    "# Take the input from the user\n",
    "var_2=int(input('Give the first number:'))\n",
    "var_3=int(input('Give the second number:'))\n",
    "\n",
    "#Make the user defined function\n",
    "def multiplication(var_2,var_3):\n",
    "    mul=var_2*var_3\n",
    "    return mul\n",
    "# call the function\n",
    "multiplication(var_2,var_3)"
   ]
  },
  {
   "cell_type": "code",
   "execution_count": null,
   "id": "2ab78b4c-3455-49fb-aecf-71daed1bc77d",
   "metadata": {},
   "outputs": [],
   "source": []
  }
 ],
 "metadata": {
  "kernelspec": {
   "display_name": "Python 3 (ipykernel)",
   "language": "python",
   "name": "python3"
  },
  "language_info": {
   "codemirror_mode": {
    "name": "ipython",
    "version": 3
   },
   "file_extension": ".py",
   "mimetype": "text/x-python",
   "name": "python",
   "nbconvert_exporter": "python",
   "pygments_lexer": "ipython3",
   "version": "3.12.4"
  }
 },
 "nbformat": 4,
 "nbformat_minor": 5
}
