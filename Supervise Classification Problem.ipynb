{
 "cells": [
  {
   "cell_type": "code",
   "execution_count": 1,
   "id": "cfea5026-3c8d-4c58-b1c6-e8cf7a4b02cc",
   "metadata": {},
   "outputs": [],
   "source": [
    "# import numerical pyhton\n",
    "import numpy as np\n",
    "\n",
    "# import the pandas\n",
    "import pandas as pd\n",
    "\n",
    "# import the seaborn\n",
    "import seaborn as sns\n",
    "\n",
    "# import the matplotlib\n",
    "import matplotlib.pyplot as plt"
   ]
  },
  {
   "cell_type": "code",
   "execution_count": 2,
   "id": "dfbc836c-b3be-4a5d-832c-7b90eec4fdee",
   "metadata": {},
   "outputs": [],
   "source": [
    "# Load the Data\n",
    "df_house_price=pd.read_csv('House_Price1.csv')"
   ]
  },
  {
   "cell_type": "code",
   "execution_count": 3,
   "id": "744ecf96-f971-44b0-80e6-72c55fcc986f",
   "metadata": {},
   "outputs": [
    {
     "data": {
      "text/html": [
       "<div>\n",
       "<style scoped>\n",
       "    .dataframe tbody tr th:only-of-type {\n",
       "        vertical-align: middle;\n",
       "    }\n",
       "\n",
       "    .dataframe tbody tr th {\n",
       "        vertical-align: top;\n",
       "    }\n",
       "\n",
       "    .dataframe thead th {\n",
       "        text-align: right;\n",
       "    }\n",
       "</style>\n",
       "<table border=\"1\" class=\"dataframe\">\n",
       "  <thead>\n",
       "    <tr style=\"text-align: right;\">\n",
       "      <th></th>\n",
       "      <th>price</th>\n",
       "      <th>resid_area</th>\n",
       "      <th>air_qual</th>\n",
       "      <th>room_num</th>\n",
       "      <th>age</th>\n",
       "      <th>distance</th>\n",
       "      <th>teachers</th>\n",
       "      <th>poor_prop</th>\n",
       "      <th>airport</th>\n",
       "      <th>n_hos_beds</th>\n",
       "      <th>n_hot_rooms</th>\n",
       "      <th>waterbody</th>\n",
       "      <th>rainfall</th>\n",
       "      <th>bus_ter</th>\n",
       "      <th>Sold</th>\n",
       "    </tr>\n",
       "  </thead>\n",
       "  <tbody>\n",
       "    <tr>\n",
       "      <th>0</th>\n",
       "      <td>24.0</td>\n",
       "      <td>32.31</td>\n",
       "      <td>0.538</td>\n",
       "      <td>6.575</td>\n",
       "      <td>65.2</td>\n",
       "      <td>4.35</td>\n",
       "      <td>24.7</td>\n",
       "      <td>4.98</td>\n",
       "      <td>YES</td>\n",
       "      <td>5.480</td>\n",
       "      <td>11.1920</td>\n",
       "      <td>River</td>\n",
       "      <td>23</td>\n",
       "      <td>YES</td>\n",
       "      <td>0</td>\n",
       "    </tr>\n",
       "    <tr>\n",
       "      <th>1</th>\n",
       "      <td>21.6</td>\n",
       "      <td>37.07</td>\n",
       "      <td>0.469</td>\n",
       "      <td>6.421</td>\n",
       "      <td>78.9</td>\n",
       "      <td>4.99</td>\n",
       "      <td>22.2</td>\n",
       "      <td>9.14</td>\n",
       "      <td>NO</td>\n",
       "      <td>7.332</td>\n",
       "      <td>12.1728</td>\n",
       "      <td>Lake</td>\n",
       "      <td>42</td>\n",
       "      <td>YES</td>\n",
       "      <td>1</td>\n",
       "    </tr>\n",
       "    <tr>\n",
       "      <th>2</th>\n",
       "      <td>34.7</td>\n",
       "      <td>37.07</td>\n",
       "      <td>0.469</td>\n",
       "      <td>7.185</td>\n",
       "      <td>61.1</td>\n",
       "      <td>5.03</td>\n",
       "      <td>22.2</td>\n",
       "      <td>4.03</td>\n",
       "      <td>NO</td>\n",
       "      <td>7.394</td>\n",
       "      <td>101.1200</td>\n",
       "      <td>NaN</td>\n",
       "      <td>38</td>\n",
       "      <td>YES</td>\n",
       "      <td>0</td>\n",
       "    </tr>\n",
       "    <tr>\n",
       "      <th>3</th>\n",
       "      <td>33.4</td>\n",
       "      <td>32.18</td>\n",
       "      <td>0.458</td>\n",
       "      <td>6.998</td>\n",
       "      <td>45.8</td>\n",
       "      <td>6.21</td>\n",
       "      <td>21.3</td>\n",
       "      <td>2.94</td>\n",
       "      <td>YES</td>\n",
       "      <td>9.268</td>\n",
       "      <td>11.2672</td>\n",
       "      <td>Lake</td>\n",
       "      <td>45</td>\n",
       "      <td>YES</td>\n",
       "      <td>0</td>\n",
       "    </tr>\n",
       "    <tr>\n",
       "      <th>4</th>\n",
       "      <td>36.2</td>\n",
       "      <td>32.18</td>\n",
       "      <td>0.458</td>\n",
       "      <td>7.147</td>\n",
       "      <td>54.2</td>\n",
       "      <td>6.16</td>\n",
       "      <td>21.3</td>\n",
       "      <td>5.33</td>\n",
       "      <td>NO</td>\n",
       "      <td>8.824</td>\n",
       "      <td>11.2896</td>\n",
       "      <td>Lake</td>\n",
       "      <td>55</td>\n",
       "      <td>YES</td>\n",
       "      <td>0</td>\n",
       "    </tr>\n",
       "  </tbody>\n",
       "</table>\n",
       "</div>"
      ],
      "text/plain": [
       "   price  resid_area  air_qual  room_num   age  distance  teachers  poor_prop  \\\n",
       "0   24.0       32.31     0.538     6.575  65.2      4.35      24.7       4.98   \n",
       "1   21.6       37.07     0.469     6.421  78.9      4.99      22.2       9.14   \n",
       "2   34.7       37.07     0.469     7.185  61.1      5.03      22.2       4.03   \n",
       "3   33.4       32.18     0.458     6.998  45.8      6.21      21.3       2.94   \n",
       "4   36.2       32.18     0.458     7.147  54.2      6.16      21.3       5.33   \n",
       "\n",
       "  airport  n_hos_beds  n_hot_rooms waterbody  rainfall bus_ter  Sold  \n",
       "0     YES       5.480      11.1920     River        23     YES     0  \n",
       "1      NO       7.332      12.1728      Lake        42     YES     1  \n",
       "2      NO       7.394     101.1200       NaN        38     YES     0  \n",
       "3     YES       9.268      11.2672      Lake        45     YES     0  \n",
       "4      NO       8.824      11.2896      Lake        55     YES     0  "
      ]
     },
     "execution_count": 3,
     "metadata": {},
     "output_type": "execute_result"
    }
   ],
   "source": [
    "#show the first five observations of the data\n",
    "df_house_price.head()"
   ]
  },
  {
   "cell_type": "code",
   "execution_count": 4,
   "id": "0e146afe-a9d6-4faf-b75b-574f2bbef92e",
   "metadata": {},
   "outputs": [],
   "source": [
    "dictionary={\n",
    "    'price':'Price',\n",
    "    'resid_area':'Residential_Area',\n",
    "    'air_qual':'Air_quality',\n",
    "    'room_num':'Room_Number',\n",
    "    'age':'Age',\n",
    "    'distance':'Distance',\n",
    "    'teachers':'Teachers',\n",
    "    'poor_prop':'Poor_Property',\n",
    "    'airport':'Airport',\n",
    "    'n_hos_beds':'N_Hospital_Beds',\n",
    "    'n_hot_rooms':'N_Hotel_rooms',\n",
    "    'waterbody':'Waterbody',\n",
    "    'rainfall':'Rainfall',\n",
    "    'bus_ter':'Bus_Ter',\n",
    "    'Sold':'Sold'\n",
    "}"
   ]
  },
  {
   "cell_type": "code",
   "execution_count": 5,
   "id": "f475c446-a5c4-45b0-a1a4-37941b6fce77",
   "metadata": {},
   "outputs": [],
   "source": [
    "# perform the rename action\n",
    "df_house_price = df_house_price.rename(columns=dictionary)"
   ]
  },
  {
   "cell_type": "code",
   "execution_count": 6,
   "id": "40c11b05-b288-4a52-999d-e4c1b5e8541e",
   "metadata": {},
   "outputs": [
    {
     "name": "stderr",
     "output_type": "stream",
     "text": [
      "C:\\Users\\Lenovo\\AppData\\Local\\Temp\\ipykernel_4796\\652970064.py:2: FutureWarning: A value is trying to be set on a copy of a DataFrame or Series through chained assignment using an inplace method.\n",
      "The behavior will change in pandas 3.0. This inplace method will never work because the intermediate object on which we are setting values always behaves as a copy.\n",
      "\n",
      "For example, when doing 'df[col].method(value, inplace=True)', try using 'df.method({col: value}, inplace=True)' or df[col] = df[col].method(value) instead, to perform the operation inplace on the original object.\n",
      "\n",
      "\n",
      "  df_house_price.Waterbody.fillna('River',inplace = True)\n"
     ]
    }
   ],
   "source": [
    "# lets treat the null values in waterbody column\n",
    "df_house_price.Waterbody.fillna('River',inplace = True)"
   ]
  },
  {
   "cell_type": "code",
   "execution_count": 7,
   "id": "ee648b1c-62cc-401c-ace6-b8d10166d8eb",
   "metadata": {},
   "outputs": [],
   "source": [
    "# N_Hospital_Beds, we have less than 10% of data is missing\n",
    "df_house_price.dropna(inplace=True)"
   ]
  },
  {
   "cell_type": "code",
   "execution_count": 8,
   "id": "c30368c4-3af2-4240-9fbc-818ec9b520e3",
   "metadata": {},
   "outputs": [],
   "source": [
    "df_target=df_house_price['Sold']"
   ]
  },
  {
   "cell_type": "code",
   "execution_count": 9,
   "id": "0e1028f7-6f54-43ba-8fce-3406fd99017b",
   "metadata": {},
   "outputs": [],
   "source": [
    "df_feature=df_house_price.drop('Sold',axis=1)"
   ]
  },
  {
   "cell_type": "code",
   "execution_count": 10,
   "id": "3a6fdca7-fc1e-4e02-85c1-d36d3b0302f0",
   "metadata": {},
   "outputs": [],
   "source": [
    "# Segregate the data based on the datatype\n",
    "df_num = df_house_price.select_dtypes(include='number')\n",
    "df_cat = df_house_price.select_dtypes(include='object')"
   ]
  },
  {
   "cell_type": "code",
   "execution_count": 11,
   "id": "61b0fcc5-b0de-4e49-8cf8-f2b840018f75",
   "metadata": {},
   "outputs": [],
   "source": [
    "# Use Dummy encoding\n",
    "df_encoded = pd.get_dummies(df_cat)\n",
    "# Reset the index\n",
    "df_encoded = df_encoded.reset_index()"
   ]
  },
  {
   "cell_type": "code",
   "execution_count": 12,
   "id": "57bad2c5-d049-4f22-a0da-51dd938c6e0e",
   "metadata": {},
   "outputs": [],
   "source": [
    "# import the standard scalar\n",
    "from sklearn.preprocessing import StandardScaler\n",
    "\n",
    "# Initiate the standard scalar\n",
    "ss = StandardScaler()"
   ]
  },
  {
   "cell_type": "code",
   "execution_count": 13,
   "id": "cbc2a852-ad70-47f6-8e55-8dfde34587c8",
   "metadata": {},
   "outputs": [],
   "source": [
    "# Scale the value present in Numerical data frame\n",
    "scaled=ss.fit_transform(df_num)"
   ]
  },
  {
   "cell_type": "code",
   "execution_count": 14,
   "id": "730f27a1-d5f4-43af-a552-d0d5b7de0474",
   "metadata": {},
   "outputs": [],
   "source": [
    "# Numerate the data into the dataframe\n",
    "scaled_df = pd.DataFrame(scaled,columns=df_num.columns)"
   ]
  },
  {
   "cell_type": "code",
   "execution_count": 15,
   "id": "b8e87d4c-ced1-4f71-be17-bcda66b25b69",
   "metadata": {},
   "outputs": [],
   "source": [
    "# Reset the Index\n",
    "scaled_df=scaled_df.reset_index()"
   ]
  },
  {
   "cell_type": "code",
   "execution_count": 16,
   "id": "0772c145-a05b-4167-bb2a-813fa610f5d7",
   "metadata": {},
   "outputs": [],
   "source": [
    "# concate encoded variable and scaled variable\n",
    "df_independent = pd.concat([df_encoded,scaled_df],axis=1)"
   ]
  },
  {
   "cell_type": "code",
   "execution_count": 17,
   "id": "1d3e7d8f-4de7-44c6-8887-483104da08d3",
   "metadata": {},
   "outputs": [],
   "source": [
    "# import the train test split\n",
    "from sklearn.model_selection import train_test_split"
   ]
  },
  {
   "cell_type": "code",
   "execution_count": 37,
   "id": "4b93271d-fa81-4fc1-946b-45f35cfcd1d2",
   "metadata": {},
   "outputs": [],
   "source": [
    "# Split the data \n",
    "x_train,x_test,y_train,y_test=train_test_split(df_independent,\n",
    "                                              df_target,\n",
    "                                              test_size=0.2)"
   ]
  },
  {
   "cell_type": "markdown",
   "id": "d3d35fb0-6642-4675-a58d-a6c35429ebe4",
   "metadata": {},
   "source": [
    "# Decision Tree Classifier"
   ]
  },
  {
   "cell_type": "code",
   "execution_count": 40,
   "id": "b3d0538b-526e-4693-a751-450fcdbaf3ea",
   "metadata": {},
   "outputs": [
    {
     "name": "stdout",
     "output_type": "stream",
     "text": [
      "              precision    recall  f1-score   support\n",
      "\n",
      "           0       1.00      1.00      1.00        54\n",
      "           1       1.00      1.00      1.00        46\n",
      "\n",
      "    accuracy                           1.00       100\n",
      "   macro avg       1.00      1.00      1.00       100\n",
      "weighted avg       1.00      1.00      1.00       100\n",
      "\n"
     ]
    }
   ],
   "source": [
    "from sklearn.tree import DecisionTreeClassifier\n",
    "from sklearn.metrics import classification_report\n",
    "\n",
    "# Create a Decision Tree classifier\n",
    "tree_model = DecisionTreeClassifier()\n",
    "\n",
    "#Fit the model to the training data\n",
    "tree_model.fit(x_train,y_train)\n",
    "\n",
    "# Predict on the testing data\n",
    "predictions = tree_model.predict(x_test)\n",
    "\n",
    "# Calculate classificaion_report\n",
    "class_report = classification_report(y_test, predictions)\n",
    "print(class_report)"
   ]
  },
  {
   "cell_type": "code",
   "execution_count": null,
   "id": "d92e1642-6ed0-4ae3-9a67-aca9174f1b98",
   "metadata": {},
   "outputs": [],
   "source": []
  }
 ],
 "metadata": {
  "kernelspec": {
   "display_name": "Python 3 (ipykernel)",
   "language": "python",
   "name": "python3"
  },
  "language_info": {
   "codemirror_mode": {
    "name": "ipython",
    "version": 3
   },
   "file_extension": ".py",
   "mimetype": "text/x-python",
   "name": "python",
   "nbconvert_exporter": "python",
   "pygments_lexer": "ipython3",
   "version": "3.12.4"
  }
 },
 "nbformat": 4,
 "nbformat_minor": 5
}
